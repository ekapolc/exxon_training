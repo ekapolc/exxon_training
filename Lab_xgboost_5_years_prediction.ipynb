{
  "nbformat": 4,
  "nbformat_minor": 0,
  "metadata": {
    "colab": {
      "name": "Lab-xgboost-5-years-prediction.ipynb",
      "version": "0.3.2",
      "provenance": [],
      "include_colab_link": true
    },
    "kernelspec": {
      "display_name": "Python 3",
      "language": "python",
      "name": "python3"
    }
  },
  "cells": [
    {
      "cell_type": "markdown",
      "metadata": {
        "id": "view-in-github",
        "colab_type": "text"
      },
      "source": [
        "[View in Colaboratory](https://colab.research.google.com/github/korrawe/exxon_training/blob/master/Lab_xgboost_5_years_prediction.ipynb)"
      ]
    },
    {
      "metadata": {
        "id": "8nARFLhkppIm",
        "colab_type": "text"
      },
      "cell_type": "markdown",
      "source": [
        "## Install this package before starting this lab"
      ]
    },
    {
      "metadata": {
        "id": "IeUOSsdOpmCI",
        "colab_type": "code",
        "colab": {
          "base_uri": "https://localhost:8080/",
          "height": 153
        },
        "outputId": "b74b7018-5287-40ee-e07f-8de1a7497149"
      },
      "cell_type": "code",
      "source": [
        "!pip install pydot\n",
        "!pip install pyparsing\n",
        "!apt-get install graphviz"
      ],
      "execution_count": 1,
      "outputs": [
        {
          "output_type": "stream",
          "text": [
            "Requirement already satisfied: pydot in /usr/local/lib/python3.6/dist-packages (1.2.4)\r\n",
            "Requirement already satisfied: pyparsing>=2.1.4 in /usr/local/lib/python3.6/dist-packages (from pydot) (2.2.0)\n",
            "Requirement already satisfied: pyparsing in /usr/local/lib/python3.6/dist-packages (2.2.0)\n",
            "Reading package lists... Done\n",
            "Building dependency tree       \n",
            "Reading state information... Done\n",
            "graphviz is already the newest version (2.38.0-16ubuntu2).\n",
            "0 upgraded, 0 newly installed, 0 to remove and 0 not upgraded.\n"
          ],
          "name": "stdout"
        }
      ]
    },
    {
      "metadata": {
        "id": "ji1e3okFp-i-",
        "colab_type": "code",
        "colab": {}
      },
      "cell_type": "code",
      "source": [
        "from google.colab import files\n",
        "import io \n",
        "\n",
        "# uploaded = files.upload()"
      ],
      "execution_count": 0,
      "outputs": []
    },
    {
      "metadata": {
        "id": "aFgcChDiqXvP",
        "colab_type": "text"
      },
      "cell_type": "markdown",
      "source": [
        "## Import libraries"
      ]
    },
    {
      "metadata": {
        "id": "YSjktuWlpCTA",
        "colab_type": "code",
        "colab": {}
      },
      "cell_type": "code",
      "source": [
        "import numpy as np\n",
        "import pandas as pd\n",
        "import matplotlib.pyplot as plt\n",
        "%matplotlib inline\n",
        "\n",
        "from sklearn.model_selection import train_test_split\n",
        "from sklearn.model_selection import KFold\n",
        "from sklearn.metrics import explained_variance_score, mean_absolute_error, mean_squared_error\n",
        "from sklearn.metrics import classification_report, confusion_matrix\n",
        "\n",
        "from xgboost import XGBClassifier, plot_tree, plot_importance, XGBRegressor\n",
        "\n",
        "from matplotlib.pylab import rcParams\n",
        "##set up the parameters\n",
        "rcParams['figure.figsize'] = 15,15"
      ],
      "execution_count": 0,
      "outputs": []
    },
    {
      "metadata": {
        "id": "Dp-5yfFfpCTG",
        "colab_type": "text"
      },
      "cell_type": "markdown",
      "source": [
        "## TODO: predict whether a employee will work for the company for at least 5 years\n",
        "In this lab, we will redefine out problem as the regression problem, specifically, how many year an employee will stay in the company."
      ]
    },
    {
      "metadata": {
        "id": "sGROkf6IpCTG",
        "colab_type": "code",
        "colab": {}
      },
      "cell_type": "code",
      "source": [
        "df = pd.read_csv('data.csv')"
      ],
      "execution_count": 0,
      "outputs": []
    },
    {
      "metadata": {
        "id": "eE553Sp2pCTK",
        "colab_type": "text"
      },
      "cell_type": "markdown",
      "source": [
        "## Predict whether an employee will stay more than 5 years"
      ]
    },
    {
      "metadata": {
        "id": "Yo2eaT9spCTK",
        "colab_type": "code",
        "colab": {}
      },
      "cell_type": "code",
      "source": [
        "# Read data\n",
        "df = pd.read_csv('data.csv')"
      ],
      "execution_count": 0,
      "outputs": []
    },
    {
      "metadata": {
        "id": "fk005lTXpCTM",
        "colab_type": "code",
        "colab": {}
      },
      "cell_type": "code",
      "source": [
        "# TODO: filter only emplyees that worked for at least one year and already left the company\n",
        "# HINT: these should be 2155 employees with such description\n"
      ],
      "execution_count": 0,
      "outputs": []
    },
    {
      "metadata": {
        "id": "PgKSWSaWpCTO",
        "colab_type": "code",
        "colab": {}
      },
      "cell_type": "code",
      "source": [
        "# TODO: do feature engineer (one-hot enciding / target encoding)\n",
        "\n",
        "# TODO: makek sure your feature name does not contain space to avoid problem with graphviz"
      ],
      "execution_count": 0,
      "outputs": []
    },
    {
      "metadata": {
        "id": "kMr1HWnipCTQ",
        "colab_type": "code",
        "colab": {}
      },
      "cell_type": "code",
      "source": [
        "# TODO: create new columns that indicate whether an employee has worked for the company for at least 5 years\n",
        "# HINT: there should be 1107 employees with such description\n"
      ],
      "execution_count": 0,
      "outputs": []
    },
    {
      "metadata": {
        "id": "TsvHTZoSpCTT",
        "colab_type": "code",
        "colab": {}
      },
      "cell_type": "code",
      "source": [
        "# TODO: drop irrelevent features.\n",
        "# CAUTION: you should not use the features in the following columns: 'WorkDurationYear', 'WorkDurationYear.1', 'NumYear_SinceLastEdu'\n"
      ],
      "execution_count": 0,
      "outputs": []
    },
    {
      "metadata": {
        "id": "-Q1l4_ddpCTV",
        "colab_type": "code",
        "colab": {}
      },
      "cell_type": "code",
      "source": [
        "# TODO: split train/test data. For consistency, use train_test_split() with test_size=0.20 and random_state=101"
      ],
      "execution_count": 0,
      "outputs": []
    },
    {
      "metadata": {
        "id": "64-DS0FrpCTX",
        "colab_type": "code",
        "colab": {}
      },
      "cell_type": "code",
      "source": [
        "# TODO: define the classifier\n"
      ],
      "execution_count": 0,
      "outputs": []
    },
    {
      "metadata": {
        "id": "NrnJC58dpCTb",
        "colab_type": "code",
        "colab": {}
      },
      "cell_type": "code",
      "source": [
        "# TODO: train the model\n"
      ],
      "execution_count": 0,
      "outputs": []
    },
    {
      "metadata": {
        "id": "fCrH4ndRpCTf",
        "colab_type": "code",
        "colab": {}
      },
      "cell_type": "code",
      "source": [
        "# TODO: make predictions\n"
      ],
      "execution_count": 0,
      "outputs": []
    },
    {
      "metadata": {
        "id": "TRB3O5z1pCTh",
        "colab_type": "code",
        "colab": {}
      },
      "cell_type": "code",
      "source": [
        "# TODO: Do error analysis (classification_report and confusion_matrix)\n"
      ],
      "execution_count": 0,
      "outputs": []
    },
    {
      "metadata": {
        "id": "gLgB5wDppCTj",
        "colab_type": "code",
        "colab": {}
      },
      "cell_type": "code",
      "source": [
        "# TODO: visualize tree\n"
      ],
      "execution_count": 0,
      "outputs": []
    },
    {
      "metadata": {
        "id": "Aw-T_VjepCTm",
        "colab_type": "code",
        "colab": {}
      },
      "cell_type": "code",
      "source": [
        "# TODO: plot importance features\n"
      ],
      "execution_count": 0,
      "outputs": []
    },
    {
      "metadata": {
        "id": "nT62Y3L4pCTq",
        "colab_type": "code",
        "colab": {}
      },
      "cell_type": "code",
      "source": [
        ""
      ],
      "execution_count": 0,
      "outputs": []
    }
  ]
}