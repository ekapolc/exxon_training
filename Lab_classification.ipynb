{
  "nbformat": 4,
  "nbformat_minor": 0,
  "metadata": {
    "colab": {
      "name": "Lab-classification.ipynb",
      "version": "0.3.2",
      "provenance": [],
      "include_colab_link": true
    },
    "kernelspec": {
      "display_name": "Python 3",
      "language": "python",
      "name": "python3"
    }
  },
  "cells": [
    {
      "cell_type": "markdown",
      "metadata": {
        "id": "view-in-github",
        "colab_type": "text"
      },
      "source": [
        "[View in Colaboratory](https://colab.research.google.com/github/korrawe/exxon_training/blob/master/Lab_classification.ipynb)"
      ]
    },
    {
      "metadata": {
        "id": "IDjq8CkxrDo-",
        "colab_type": "text"
      },
      "cell_type": "markdown",
      "source": [
        "## Install this package before starting this lab"
      ]
    },
    {
      "metadata": {
        "id": "wM0db_qhrIB_",
        "colab_type": "code",
        "colab": {
          "base_uri": "https://localhost:8080/",
          "height": 187
        },
        "outputId": "11472074-72ad-4753-a608-2b3e23f8162e"
      },
      "cell_type": "code",
      "source": [
        "!pip install xlrd\n",
        "!pip install pydot\n",
        "!pip install pyparsing\n",
        "!apt-get install graphviz\n",
        "!pip install graphviz"
      ],
      "execution_count": 1,
      "outputs": [
        {
          "output_type": "stream",
          "text": [
            "Requirement already satisfied: xlrd in /usr/local/lib/python3.6/dist-packages (1.1.0)\n",
            "Requirement already satisfied: pydot in /usr/local/lib/python3.6/dist-packages (1.2.4)\n",
            "Requirement already satisfied: pyparsing>=2.1.4 in /usr/local/lib/python3.6/dist-packages (from pydot) (2.2.0)\n",
            "Requirement already satisfied: pyparsing in /usr/local/lib/python3.6/dist-packages (2.2.0)\n",
            "Reading package lists... Done\n",
            "Building dependency tree       \n",
            "Reading state information... Done\n",
            "graphviz is already the newest version (2.38.0-16ubuntu2).\n",
            "0 upgraded, 0 newly installed, 0 to remove and 0 not upgraded.\n",
            "Requirement already satisfied: graphviz in /usr/local/lib/python3.6/dist-packages (0.8.4)\n"
          ],
          "name": "stdout"
        }
      ]
    },
    {
      "metadata": {
        "id": "nt-3VgjrrV-n",
        "colab_type": "text"
      },
      "cell_type": "markdown",
      "source": [
        "## Import libraries"
      ]
    },
    {
      "metadata": {
        "id": "gyTdWKfKqpaH",
        "colab_type": "code",
        "colab": {}
      },
      "cell_type": "code",
      "source": [
        "import numpy as np\n",
        "import pandas as pd\n",
        "import matplotlib.pyplot as plt\n",
        "%matplotlib inline\n",
        "\n",
        "from sklearn.model_selection import train_test_split\n",
        "from sklearn.model_selection import KFold\n",
        "from sklearn.metrics import classification_report, confusion_matrix\n",
        "\n",
        "from xgboost import XGBClassifier, plot_tree, plot_importance\n",
        "\n",
        "from matplotlib.pylab import rcParams\n",
        "rcParams['figure.figsize'] = 15,15"
      ],
      "execution_count": 0,
      "outputs": []
    },
    {
      "metadata": {
        "id": "w5TG733JrepX",
        "colab_type": "code",
        "colab": {}
      },
      "cell_type": "code",
      "source": [
        "from google.colab import files\n",
        "import io \n",
        "\n",
        "# uploaded = files.upload()"
      ],
      "execution_count": 0,
      "outputs": []
    },
    {
      "metadata": {
        "id": "Y-mz16DaqpaL",
        "colab_type": "text"
      },
      "cell_type": "markdown",
      "source": [
        "# XGboost"
      ]
    },
    {
      "metadata": {
        "id": "GATNe5MvqpaL",
        "colab_type": "code",
        "colab": {}
      },
      "cell_type": "code",
      "source": [
        "# Load our pre-processed data\n",
        "df = pd.read_csv('data.csv')"
      ],
      "execution_count": 0,
      "outputs": []
    },
    {
      "metadata": {
        "id": "rts-EKZMqpaO",
        "colab_type": "code",
        "colab": {
          "base_uri": "https://localhost:8080/",
          "height": 241
        },
        "outputId": "0d7f0d2e-ca66-4903-f805-90f49694e578"
      },
      "cell_type": "code",
      "source": [
        "print(df.shape)\n",
        "df.head()"
      ],
      "execution_count": 5,
      "outputs": [
        {
          "output_type": "stream",
          "text": [
            "(4591, 19)\n"
          ],
          "name": "stdout"
        },
        {
          "output_type": "execute_result",
          "data": {
            "text/html": [
              "<div>\n",
              "<style scoped>\n",
              "    .dataframe tbody tr th:only-of-type {\n",
              "        vertical-align: middle;\n",
              "    }\n",
              "\n",
              "    .dataframe tbody tr th {\n",
              "        vertical-align: top;\n",
              "    }\n",
              "\n",
              "    .dataframe thead th {\n",
              "        text-align: right;\n",
              "    }\n",
              "</style>\n",
              "<table border=\"1\" class=\"dataframe\">\n",
              "  <thead>\n",
              "    <tr style=\"text-align: right;\">\n",
              "      <th></th>\n",
              "      <th>SerialNumber</th>\n",
              "      <th>Leave</th>\n",
              "      <th>ActionYear</th>\n",
              "      <th>WorkDurationYear</th>\n",
              "      <th>CountLoan</th>\n",
              "      <th>Avg_MonthPerLoan</th>\n",
              "      <th>HireType</th>\n",
              "      <th>HireSourceGroup</th>\n",
              "      <th>WorkDurationYear.1</th>\n",
              "      <th>Avg_TotalAbsensePerYear</th>\n",
              "      <th>Avg_NumDaysPerAbsense</th>\n",
              "      <th>TotalEduAllowance</th>\n",
              "      <th>NumYear_SinceLastEduAllowance</th>\n",
              "      <th>TotalEduAttend</th>\n",
              "      <th>EduBranch_CHEM</th>\n",
              "      <th>EduBranch_Finance</th>\n",
              "      <th>EduBranch_Languages</th>\n",
              "      <th>Max_EduInstituteGroup</th>\n",
              "      <th>NumYear_SinceLastEdu</th>\n",
              "    </tr>\n",
              "  </thead>\n",
              "  <tbody>\n",
              "    <tr>\n",
              "      <th>0</th>\n",
              "      <td>4</td>\n",
              "      <td>1.0</td>\n",
              "      <td>2000</td>\n",
              "      <td>39.0</td>\n",
              "      <td>0.0</td>\n",
              "      <td>0.0</td>\n",
              "      <td>Unknown</td>\n",
              "      <td>Unknown</td>\n",
              "      <td>39.0</td>\n",
              "      <td>0.0</td>\n",
              "      <td>0.0</td>\n",
              "      <td>0.0</td>\n",
              "      <td>0.0</td>\n",
              "      <td>1.0</td>\n",
              "      <td>0.0</td>\n",
              "      <td>0.0</td>\n",
              "      <td>0.0</td>\n",
              "      <td>Unknown</td>\n",
              "      <td>41.0</td>\n",
              "    </tr>\n",
              "    <tr>\n",
              "      <th>1</th>\n",
              "      <td>5</td>\n",
              "      <td>1.0</td>\n",
              "      <td>2000</td>\n",
              "      <td>39.0</td>\n",
              "      <td>0.0</td>\n",
              "      <td>0.0</td>\n",
              "      <td>Unknown</td>\n",
              "      <td>Unknown</td>\n",
              "      <td>39.0</td>\n",
              "      <td>0.0</td>\n",
              "      <td>0.0</td>\n",
              "      <td>0.0</td>\n",
              "      <td>0.0</td>\n",
              "      <td>0.0</td>\n",
              "      <td>0.0</td>\n",
              "      <td>0.0</td>\n",
              "      <td>0.0</td>\n",
              "      <td>UNIV</td>\n",
              "      <td>40.0</td>\n",
              "    </tr>\n",
              "    <tr>\n",
              "      <th>2</th>\n",
              "      <td>6</td>\n",
              "      <td>1.0</td>\n",
              "      <td>2000</td>\n",
              "      <td>38.0</td>\n",
              "      <td>0.0</td>\n",
              "      <td>0.0</td>\n",
              "      <td>Unknown</td>\n",
              "      <td>Unknown</td>\n",
              "      <td>38.0</td>\n",
              "      <td>0.0</td>\n",
              "      <td>0.0</td>\n",
              "      <td>0.0</td>\n",
              "      <td>0.0</td>\n",
              "      <td>1.0</td>\n",
              "      <td>0.0</td>\n",
              "      <td>0.0</td>\n",
              "      <td>0.0</td>\n",
              "      <td>Unknown</td>\n",
              "      <td>47.0</td>\n",
              "    </tr>\n",
              "    <tr>\n",
              "      <th>3</th>\n",
              "      <td>7</td>\n",
              "      <td>1.0</td>\n",
              "      <td>2000</td>\n",
              "      <td>38.0</td>\n",
              "      <td>0.0</td>\n",
              "      <td>0.0</td>\n",
              "      <td>Unknown</td>\n",
              "      <td>Unknown</td>\n",
              "      <td>38.0</td>\n",
              "      <td>0.0</td>\n",
              "      <td>0.0</td>\n",
              "      <td>0.0</td>\n",
              "      <td>0.0</td>\n",
              "      <td>0.0</td>\n",
              "      <td>0.0</td>\n",
              "      <td>0.0</td>\n",
              "      <td>0.0</td>\n",
              "      <td>SCHL</td>\n",
              "      <td>39.0</td>\n",
              "    </tr>\n",
              "    <tr>\n",
              "      <th>4</th>\n",
              "      <td>10</td>\n",
              "      <td>1.0</td>\n",
              "      <td>2000</td>\n",
              "      <td>38.0</td>\n",
              "      <td>0.0</td>\n",
              "      <td>0.0</td>\n",
              "      <td>Unknown</td>\n",
              "      <td>Unknown</td>\n",
              "      <td>38.0</td>\n",
              "      <td>0.0</td>\n",
              "      <td>0.0</td>\n",
              "      <td>0.0</td>\n",
              "      <td>0.0</td>\n",
              "      <td>1.0</td>\n",
              "      <td>0.0</td>\n",
              "      <td>0.0</td>\n",
              "      <td>0.0</td>\n",
              "      <td>Unknown</td>\n",
              "      <td>38.0</td>\n",
              "    </tr>\n",
              "  </tbody>\n",
              "</table>\n",
              "</div>"
            ],
            "text/plain": [
              "   SerialNumber  Leave  ActionYear  WorkDurationYear  CountLoan  \\\n",
              "0             4    1.0        2000              39.0        0.0   \n",
              "1             5    1.0        2000              39.0        0.0   \n",
              "2             6    1.0        2000              38.0        0.0   \n",
              "3             7    1.0        2000              38.0        0.0   \n",
              "4            10    1.0        2000              38.0        0.0   \n",
              "\n",
              "   Avg_MonthPerLoan HireType HireSourceGroup  WorkDurationYear.1  \\\n",
              "0               0.0  Unknown         Unknown                39.0   \n",
              "1               0.0  Unknown         Unknown                39.0   \n",
              "2               0.0  Unknown         Unknown                38.0   \n",
              "3               0.0  Unknown         Unknown                38.0   \n",
              "4               0.0  Unknown         Unknown                38.0   \n",
              "\n",
              "   Avg_TotalAbsensePerYear  Avg_NumDaysPerAbsense  TotalEduAllowance  \\\n",
              "0                      0.0                    0.0                0.0   \n",
              "1                      0.0                    0.0                0.0   \n",
              "2                      0.0                    0.0                0.0   \n",
              "3                      0.0                    0.0                0.0   \n",
              "4                      0.0                    0.0                0.0   \n",
              "\n",
              "   NumYear_SinceLastEduAllowance  TotalEduAttend  EduBranch_CHEM  \\\n",
              "0                            0.0             1.0             0.0   \n",
              "1                            0.0             0.0             0.0   \n",
              "2                            0.0             1.0             0.0   \n",
              "3                            0.0             0.0             0.0   \n",
              "4                            0.0             1.0             0.0   \n",
              "\n",
              "   EduBranch_Finance  EduBranch_Languages Max_EduInstituteGroup  \\\n",
              "0                0.0                  0.0               Unknown   \n",
              "1                0.0                  0.0                  UNIV   \n",
              "2                0.0                  0.0               Unknown   \n",
              "3                0.0                  0.0                  SCHL   \n",
              "4                0.0                  0.0               Unknown   \n",
              "\n",
              "   NumYear_SinceLastEdu  \n",
              "0                  41.0  \n",
              "1                  40.0  \n",
              "2                  47.0  \n",
              "3                  39.0  \n",
              "4                  38.0  "
            ]
          },
          "metadata": {
            "tags": []
          },
          "execution_count": 5
        }
      ]
    },
    {
      "metadata": {
        "id": "n2hDPD9jqpaS",
        "colab_type": "code",
        "colab": {
          "base_uri": "https://localhost:8080/",
          "height": 119
        },
        "outputId": "41df56ce-f22d-4453-d69c-44f204c70c1a"
      },
      "cell_type": "code",
      "source": [
        "# Print columns in dataframe\n",
        "print(df.columns.values)"
      ],
      "execution_count": 6,
      "outputs": [
        {
          "output_type": "stream",
          "text": [
            "['SerialNumber' 'Leave' 'ActionYear' 'WorkDurationYear' 'CountLoan'\n",
            " 'Avg_MonthPerLoan' 'HireType' 'HireSourceGroup' 'WorkDurationYear.1'\n",
            " 'Avg_TotalAbsensePerYear' 'Avg_NumDaysPerAbsense' 'TotalEduAllowance'\n",
            " 'NumYear_SinceLastEduAllowance' 'TotalEduAttend' 'EduBranch_CHEM'\n",
            " 'EduBranch_Finance' 'EduBranch_Languages' 'Max_EduInstituteGroup'\n",
            " 'NumYear_SinceLastEdu']\n"
          ],
          "name": "stdout"
        }
      ]
    },
    {
      "metadata": {
        "id": "Qu-XU6MLqpaV",
        "colab_type": "code",
        "colab": {}
      },
      "cell_type": "code",
      "source": [
        "# Create one-hot feature columns for Max_EduInstituteGroup, HireType, HireSourceGroup\n",
        "dfEduInstituteGroup = pd.get_dummies(df['Max_EduInstituteGroup'], prefix='Max_EduInstituteGroup')\n",
        "dfHireTypeGroup = pd.get_dummies(df['HireType'], prefix='HireType')\n",
        "dfHireSourceGroup = pd.get_dummies(df['HireSourceGroup'], prefix='HireSourceGroup')\n",
        "\n",
        "# Concat the new columns to the dataframe\n",
        "df = pd.concat([df, dfEduInstituteGroup, dfHireTypeGroup, dfHireSourceGroup], axis=1)"
      ],
      "execution_count": 0,
      "outputs": []
    },
    {
      "metadata": {
        "id": "tm_1NMVoqpaX",
        "colab_type": "code",
        "colab": {
          "base_uri": "https://localhost:8080/",
          "height": 34
        },
        "outputId": "d811b12f-31a2-4eed-a19a-af67d4ca79f1"
      },
      "cell_type": "code",
      "source": [
        "print(df.shape)"
      ],
      "execution_count": 8,
      "outputs": [
        {
          "output_type": "stream",
          "text": [
            "(4591, 40)\n"
          ],
          "name": "stdout"
        }
      ]
    },
    {
      "metadata": {
        "id": "TDyG-ZFDqpab",
        "colab_type": "text"
      },
      "cell_type": "markdown",
      "source": [
        "We will try to use xgboost model to predict whether an employee is still working for the company after 2017. Similar to our previous labs, we devide our train and test set using ActionYear 2017"
      ]
    },
    {
      "metadata": {
        "id": "z56tfA08qpab",
        "colab_type": "code",
        "colab": {
          "base_uri": "https://localhost:8080/",
          "height": 34
        },
        "outputId": "429b6889-cd84-43a4-d5bd-71d2b86ace65"
      },
      "cell_type": "code",
      "source": [
        "df_train = df[ df['ActionYear'] < 2017]\n",
        "df_train.shape"
      ],
      "execution_count": 9,
      "outputs": [
        {
          "output_type": "execute_result",
          "data": {
            "text/plain": [
              "(3469, 40)"
            ]
          },
          "metadata": {
            "tags": []
          },
          "execution_count": 9
        }
      ]
    },
    {
      "metadata": {
        "id": "eUjPgaRXqpae",
        "colab_type": "code",
        "colab": {
          "base_uri": "https://localhost:8080/",
          "height": 34
        },
        "outputId": "36c8b63b-25ee-47e0-b20f-48e0d78fff43"
      },
      "cell_type": "code",
      "source": [
        "df_test = df[ df['ActionYear'] >= 2017]\n",
        "df_test.shape"
      ],
      "execution_count": 10,
      "outputs": [
        {
          "output_type": "execute_result",
          "data": {
            "text/plain": [
              "(1122, 40)"
            ]
          },
          "metadata": {
            "tags": []
          },
          "execution_count": 10
        }
      ]
    },
    {
      "metadata": {
        "id": "-m1kLuJ0qpah",
        "colab_type": "code",
        "colab": {}
      },
      "cell_type": "code",
      "source": [
        "# Drop irrelavent columns and create label\n",
        "df_train_variable = df_train.drop(['SerialNumber','ActionYear','Leave','Max_EduInstituteGroup','HireType','HireSourceGroup'],axis=1)\n",
        "df_train_label = df_train['Leave']\n",
        "\n",
        "df_test_variable = df_test.drop(['SerialNumber','ActionYear','Leave','Max_EduInstituteGroup','HireType','HireSourceGroup'],axis=1)\n",
        "df_test_label = df_test['Leave']"
      ],
      "execution_count": 0,
      "outputs": []
    },
    {
      "metadata": {
        "id": "Hq7NkOzdqpal",
        "colab_type": "code",
        "colab": {}
      },
      "cell_type": "code",
      "source": [
        "X_train, X_test, y_train, y_test = df_train_variable, df_test_variable, df_train_label, df_test_label"
      ],
      "execution_count": 0,
      "outputs": []
    },
    {
      "metadata": {
        "id": "tt8THQaOqpao",
        "colab_type": "code",
        "colab": {
          "base_uri": "https://localhost:8080/",
          "height": 51
        },
        "outputId": "46e85b41-0ed3-4aac-c357-89645a8ab835"
      },
      "cell_type": "code",
      "source": [
        "print(y_train.shape)\n",
        "print(y_test.shape)"
      ],
      "execution_count": 13,
      "outputs": [
        {
          "output_type": "stream",
          "text": [
            "(3469,)\n",
            "(1122,)\n"
          ],
          "name": "stdout"
        }
      ]
    },
    {
      "metadata": {
        "id": "p6v_Fdu7qpas",
        "colab_type": "text"
      },
      "cell_type": "markdown",
      "source": [
        "Here, we create our xgboost classifier that will classify 2 classes, whether each employee will leave the company by the end of 2017, with some pre-defined hyperparameters. Note that these hyperparameters should be tuned for each different task and dataset.\n",
        "\n",
        "Full details of each hyperparameter can be found in [XGBoost Docs](https://xgboost.readthedocs.io/en/latest/parameter.html#parameters-for-tree-booster)"
      ]
    },
    {
      "metadata": {
        "id": "gwMu2kBvqpat",
        "colab_type": "code",
        "colab": {}
      },
      "cell_type": "code",
      "source": [
        "# Define our model\n",
        "model = XGBClassifier(    \n",
        "    n_jobs=16,\n",
        "    n_estimators=400,\n",
        "    max_depth=4,\n",
        "    objective=\"binary:logistic\",\n",
        "    learning_rate=0.07, \n",
        "    subsample=0.9,\n",
        "    min_child_weight=6,\n",
        "    colsample_bytree=.9,\n",
        "    scale_pos_weight=0.8,\n",
        "    gamma=8,\n",
        "    reg_alpha=6,\n",
        "    reg_lambda=1.3)"
      ],
      "execution_count": 0,
      "outputs": []
    },
    {
      "metadata": {
        "id": "vI4zhyelqpav",
        "colab_type": "code",
        "colab": {
          "base_uri": "https://localhost:8080/",
          "height": 119
        },
        "outputId": "ce16ba50-2aa2-4d6e-8bbd-43990fda828f"
      },
      "cell_type": "code",
      "source": [
        "# Train the model\n",
        "model.fit(X_train, y_train)\n",
        "print(model)"
      ],
      "execution_count": 15,
      "outputs": [
        {
          "output_type": "stream",
          "text": [
            "XGBClassifier(base_score=0.5, booster='gbtree', colsample_bylevel=1,\n",
            "       colsample_bytree=0.9, gamma=8, learning_rate=0.07, max_delta_step=0,\n",
            "       max_depth=4, min_child_weight=6, missing=None, n_estimators=400,\n",
            "       n_jobs=16, nthread=None, objective='binary:logistic',\n",
            "       random_state=0, reg_alpha=6, reg_lambda=1.3, scale_pos_weight=0.8,\n",
            "       seed=None, silent=True, subsample=0.9)\n"
          ],
          "name": "stdout"
        }
      ]
    },
    {
      "metadata": {
        "id": "ilUvkq09qpax",
        "colab_type": "text"
      },
      "cell_type": "markdown",
      "source": [
        "#### Predict test labels for model evaluation\n",
        "By calling predict_proba(input_data), the model will output the probabilities of each output class"
      ]
    },
    {
      "metadata": {
        "id": "RByZEalFqpax",
        "colab_type": "code",
        "colab": {
          "base_uri": "https://localhost:8080/",
          "height": 136
        },
        "outputId": "69750fff-e17b-440f-d260-3c461a42611c"
      },
      "cell_type": "code",
      "source": [
        "model.predict_proba(X_test)"
      ],
      "execution_count": 16,
      "outputs": [
        {
          "output_type": "execute_result",
          "data": {
            "text/plain": [
              "array([[0.8323903 , 0.16760969],\n",
              "       [0.8410598 , 0.15894018],\n",
              "       [0.8323903 , 0.16760969],\n",
              "       ...,\n",
              "       [0.5864377 , 0.41356227],\n",
              "       [0.62527406, 0.37472597],\n",
              "       [0.6257338 , 0.3742662 ]], dtype=float32)"
            ]
          },
          "metadata": {
            "tags": []
          },
          "execution_count": 16
        }
      ]
    },
    {
      "metadata": {
        "id": "FWpsXpiSqpa1",
        "colab_type": "code",
        "colab": {}
      },
      "cell_type": "code",
      "source": [
        "# Predict test label for model evaluation\n",
        "# Since we only have 2 classes, 0 and 1, we will use predict_proba(X_test)[:,1] as probability of employees levaing the company\n",
        "y_pred = model.predict_proba(X_test)[:,1]\n",
        "\n",
        "# Round the predicted probabilities to get predicted labels\n",
        "predictions = [np.round(value) for value in y_pred]"
      ],
      "execution_count": 0,
      "outputs": []
    },
    {
      "metadata": {
        "id": "IUPz4VHiqpa3",
        "colab_type": "code",
        "colab": {
          "base_uri": "https://localhost:8080/",
          "height": 136
        },
        "outputId": "6f7fb1f3-01b1-421f-bd6a-73c688bb3b6f"
      },
      "cell_type": "code",
      "source": [
        "print(classification_report(y_test, predictions))"
      ],
      "execution_count": 18,
      "outputs": [
        {
          "output_type": "stream",
          "text": [
            "             precision    recall  f1-score   support\n",
            "\n",
            "        0.0       0.91      0.78      0.84       959\n",
            "        1.0       0.28      0.52      0.37       163\n",
            "\n",
            "avg / total       0.82      0.74      0.77      1122\n",
            "\n"
          ],
          "name": "stdout"
        }
      ]
    },
    {
      "metadata": {
        "id": "cCwOwYpZqpa6",
        "colab_type": "code",
        "colab": {
          "base_uri": "https://localhost:8080/",
          "height": 51
        },
        "outputId": "d52ceee8-b4da-4d50-d6c4-809457f19372"
      },
      "cell_type": "code",
      "source": [
        "print(confusion_matrix(y_test, predictions))"
      ],
      "execution_count": 19,
      "outputs": [
        {
          "output_type": "stream",
          "text": [
            "[[745 214]\n",
            " [ 78  85]]\n"
          ],
          "name": "stdout"
        }
      ]
    },
    {
      "metadata": {
        "id": "7EJvb0utqpa-",
        "colab_type": "text"
      },
      "cell_type": "markdown",
      "source": [
        "----------"
      ]
    },
    {
      "metadata": {
        "id": "q1KUWrPSqpa-",
        "colab_type": "text"
      },
      "cell_type": "markdown",
      "source": [
        "## Target Encoding\n",
        "In case that we have categorical features columns, e.g user group is 1, 2, or 3, we usually create new one-hot feature columns for all possible categories which will have value '1' in the column that user belong and '0' otherwise. However, by creating new one-hot feature columns for every categories, we will end up with a lot of one-hot feature columns that might be hard to learn by the model.\n",
        "\n",
        "In this section, we will encode those categorical features into a new columns that will be easier to be learned by the model"
      ]
    },
    {
      "metadata": {
        "id": "7sv6LAK0qpa_",
        "colab_type": "code",
        "colab": {}
      },
      "cell_type": "code",
      "source": [
        "def add_noise(series, noise_level):\n",
        "    return series * (1 + noise_level * np.random.randn(len(series)))\n",
        "\n",
        "\n",
        "def target_encode(trn_series=None,\n",
        "                  tst_series=None,\n",
        "                  target=None,\n",
        "                  min_samples_leaf=1,\n",
        "                  smoothing=1,\n",
        "                  noise_level=0):\n",
        "    \"\"\"\n",
        "    Smoothing is computed like in the following paper by Daniele Micci-Barreca\n",
        "    https://kaggle2.blob.core.windows.net/forum-message-attachments/225952/7441/high%20cardinality%20categoricals.pdf\n",
        "    trn_series : training categorical feature as a pd.Series\n",
        "    tst_series : test categorical feature as a pd.Series\n",
        "    target : target data as a pd.Series\n",
        "    min_samples_leaf (int) : minimum samples to take category average into account\n",
        "    smoothing (int) : smoothing effect to balance categorical average vs prior\n",
        "    \"\"\"\n",
        "    assert len(trn_series) == len(target)\n",
        "    assert trn_series.name == tst_series.name\n",
        "    temp = pd.concat([trn_series, target], axis=1)\n",
        "    # Compute target mean\n",
        "    averages = temp.groupby(by=trn_series.name)[target.name].agg([\"mean\", \"count\"])\n",
        "    \n",
        "    # Compute smoothing\n",
        "    smoothing = 1 / (1 + np.exp(-(averages[\"count\"] - min_samples_leaf) / smoothing))\n",
        "    \n",
        "    # Apply average function to all target data\n",
        "    prior = target.mean()\n",
        "    \n",
        "    # The bigger the count the less full_avg is taken into account\n",
        "    averages[target.name] = prior * (1 - smoothing) + averages[\"mean\"] * smoothing\n",
        "    averages.drop([\"mean\", \"count\"], axis=1, inplace=True)\n",
        "    \n",
        "    # Apply averages to trn and tst series\n",
        "    ft_trn_series = pd.merge(\n",
        "        trn_series.to_frame(trn_series.name),\n",
        "        averages.reset_index().rename(columns={'index': target.name, target.name: 'average'}),\n",
        "        on=trn_series.name,\n",
        "        how='left')['average'].rename(trn_series.name + '_mean').fillna(prior)\n",
        "    # pd.merge does not keep the index so restore it\n",
        "    ft_trn_series.index = trn_series.index\n",
        "\n",
        "    ft_tst_series = pd.merge(\n",
        "        tst_series.to_frame(tst_series.name),\n",
        "        averages.reset_index().rename(columns={'index': target.name, target.name: 'average'}),\n",
        "        on=tst_series.name,\n",
        "        how='left')['average'].rename(trn_series.name + '_mean').fillna(prior)\n",
        "    # pd.merge does not keep the index so restore it\n",
        "    ft_tst_series.index = tst_series.index\n",
        "    return add_noise(ft_trn_series, noise_level), add_noise(ft_tst_series, noise_level)"
      ],
      "execution_count": 0,
      "outputs": []
    },
    {
      "metadata": {
        "id": "OJ1eVab2sEX4",
        "colab_type": "text"
      },
      "cell_type": "markdown",
      "source": [
        "## Train new model with target encoding"
      ]
    },
    {
      "metadata": {
        "id": "sanjR0gdqpbo",
        "colab_type": "code",
        "colab": {}
      },
      "cell_type": "code",
      "source": [
        "# Load our pre-processed data\n",
        "df = pd.read_csv('data.csv')"
      ],
      "execution_count": 0,
      "outputs": []
    },
    {
      "metadata": {
        "id": "psi7Zv74qpbr",
        "colab_type": "code",
        "colab": {
          "base_uri": "https://localhost:8080/",
          "height": 357
        },
        "outputId": "723bf3de-ebe2-4a45-fe13-b9a231965a10"
      },
      "cell_type": "code",
      "source": [
        "df.dtypes"
      ],
      "execution_count": 22,
      "outputs": [
        {
          "output_type": "execute_result",
          "data": {
            "text/plain": [
              "SerialNumber                       int64\n",
              "Leave                            float64\n",
              "ActionYear                         int64\n",
              "WorkDurationYear                 float64\n",
              "CountLoan                        float64\n",
              "Avg_MonthPerLoan                 float64\n",
              "HireType                          object\n",
              "HireSourceGroup                   object\n",
              "WorkDurationYear.1               float64\n",
              "Avg_TotalAbsensePerYear          float64\n",
              "Avg_NumDaysPerAbsense            float64\n",
              "TotalEduAllowance                float64\n",
              "NumYear_SinceLastEduAllowance    float64\n",
              "TotalEduAttend                   float64\n",
              "EduBranch_CHEM                   float64\n",
              "EduBranch_Finance                float64\n",
              "EduBranch_Languages              float64\n",
              "Max_EduInstituteGroup             object\n",
              "NumYear_SinceLastEdu             float64\n",
              "dtype: object"
            ]
          },
          "metadata": {
            "tags": []
          },
          "execution_count": 22
        }
      ]
    },
    {
      "metadata": {
        "id": "Si0bO1HHqpbt",
        "colab_type": "code",
        "colab": {}
      },
      "cell_type": "code",
      "source": [
        "# Create one-hot feature columns for Max_EduInstituteGroup, HireType, HireSourceGroup\n",
        "dfEduInstituteGroup = pd.get_dummies(df['Max_EduInstituteGroup'], prefix='Max_EduInstituteGroup')\n",
        "dfHireTypeGroup = pd.get_dummies(df['HireType'], prefix='HireType')\n",
        "dfHireSourceGroup = pd.get_dummies(df['HireSourceGroup'], prefix='HireSourceGroup')\n",
        "\n",
        "# Concat the new columns to the dataframe\n",
        "df = pd.concat([df, dfEduInstituteGroup,dfHireTypeGroup,dfHireSourceGroup], axis=1)"
      ],
      "execution_count": 0,
      "outputs": []
    },
    {
      "metadata": {
        "id": "TFbb-DRWqpbw",
        "colab_type": "code",
        "colab": {}
      },
      "cell_type": "code",
      "source": [
        "# Split train/test \n",
        "df_train = df[ df['ActionYear'] < 2017]\n",
        "df_train.shape\n",
        "\n",
        "df_test = df[ df['ActionYear'] >= 2017]\n",
        "df_test.shape\n",
        "\n",
        "df_train_variable = df_train.drop(['SerialNumber','ActionYear','Leave'],axis=1)\n",
        "df_train_label = df_train['Leave']\n",
        "\n",
        "df_test_variable = df_test.drop(['SerialNumber','ActionYear','Leave'],axis=1)\n",
        "df_test_label = df_test['Leave']\n",
        "\n",
        "X_train, X_test, y_train, y_test = df_train_variable, df_test_variable, df_train_label, df_test_label"
      ],
      "execution_count": 0,
      "outputs": []
    },
    {
      "metadata": {
        "id": "FTLh2uUpqpbz",
        "colab_type": "code",
        "colab": {}
      },
      "cell_type": "code",
      "source": [
        "# Target encode these categorical features in our data\n",
        "col_names_cat = ['HireType', 'HireSourceGroup', 'Max_EduInstituteGroup']"
      ],
      "execution_count": 0,
      "outputs": []
    },
    {
      "metadata": {
        "id": "fCxC-9Awqpb1",
        "colab_type": "code",
        "colab": {}
      },
      "cell_type": "code",
      "source": [
        "# Enocode categorical features\n",
        "for f in col_names_cat:\n",
        "    X_train[f + \"_avg\"], X_test[f + \"_avg\"] = target_encode(\n",
        "                                              trn_series=X_train[f],\n",
        "                                              tst_series=X_test[f],\n",
        "                                              target=y_train,\n",
        "                                              min_samples_leaf=200,\n",
        "                                              smoothing=10,\n",
        "                                              noise_level=0\n",
        "                                              )"
      ],
      "execution_count": 0,
      "outputs": []
    },
    {
      "metadata": {
        "id": "GdsSyeULqpb3",
        "colab_type": "code",
        "colab": {
          "base_uri": "https://localhost:8080/",
          "height": 323
        },
        "outputId": "9332c566-1d30-4328-f97c-6775e87fd2b3"
      },
      "cell_type": "code",
      "source": [
        "X_train.columns.values"
      ],
      "execution_count": 27,
      "outputs": [
        {
          "output_type": "execute_result",
          "data": {
            "text/plain": [
              "array(['WorkDurationYear', 'CountLoan', 'Avg_MonthPerLoan', 'HireType',\n",
              "       'HireSourceGroup', 'WorkDurationYear.1', 'Avg_TotalAbsensePerYear',\n",
              "       'Avg_NumDaysPerAbsense', 'TotalEduAllowance',\n",
              "       'NumYear_SinceLastEduAllowance', 'TotalEduAttend',\n",
              "       'EduBranch_CHEM', 'EduBranch_Finance', 'EduBranch_Languages',\n",
              "       'Max_EduInstituteGroup', 'NumYear_SinceLastEdu',\n",
              "       'Max_EduInstituteGroup_ACAD', 'Max_EduInstituteGroup_CAMP',\n",
              "       'Max_EduInstituteGroup_COLL', 'Max_EduInstituteGroup_INST',\n",
              "       'Max_EduInstituteGroup_NIDA', 'Max_EduInstituteGroup_OTHR',\n",
              "       'Max_EduInstituteGroup_SASI', 'Max_EduInstituteGroup_SCHL',\n",
              "       'Max_EduInstituteGroup_UNIV', 'Max_EduInstituteGroup_Unknown',\n",
              "       'HireType_Contractor Conversion', 'HireType_Experienced Hire',\n",
              "       'HireType_Inexperienced Hire', 'HireType_Unknown',\n",
              "       'HireSourceGroup_Agency', 'HireSourceGroup_Campus/Fair',\n",
              "       'HireSourceGroup_Contractor Conversion', 'HireSourceGroup_Other',\n",
              "       'HireSourceGroup_Referral', 'HireSourceGroup_Unknown',\n",
              "       'HireSourceGroup_Website/Ads', 'HireType_avg',\n",
              "       'HireSourceGroup_avg', 'Max_EduInstituteGroup_avg'], dtype=object)"
            ]
          },
          "metadata": {
            "tags": []
          },
          "execution_count": 27
        }
      ]
    },
    {
      "metadata": {
        "id": "nT-7GwQJqpb7",
        "colab_type": "code",
        "colab": {
          "base_uri": "https://localhost:8080/",
          "height": 359
        },
        "outputId": "cb6bda59-fa57-4fda-d12e-d5b25defbe79"
      },
      "cell_type": "code",
      "source": [
        "# Sample encoded values\n",
        "X_train[:10][['HireType', 'HireType_avg', 'HireSourceGroup', 'HireSourceGroup_avg', 'Max_EduInstituteGroup', 'Max_EduInstituteGroup_avg']]"
      ],
      "execution_count": 28,
      "outputs": [
        {
          "output_type": "execute_result",
          "data": {
            "text/html": [
              "<div>\n",
              "<style scoped>\n",
              "    .dataframe tbody tr th:only-of-type {\n",
              "        vertical-align: middle;\n",
              "    }\n",
              "\n",
              "    .dataframe tbody tr th {\n",
              "        vertical-align: top;\n",
              "    }\n",
              "\n",
              "    .dataframe thead th {\n",
              "        text-align: right;\n",
              "    }\n",
              "</style>\n",
              "<table border=\"1\" class=\"dataframe\">\n",
              "  <thead>\n",
              "    <tr style=\"text-align: right;\">\n",
              "      <th></th>\n",
              "      <th>HireType</th>\n",
              "      <th>HireType_avg</th>\n",
              "      <th>HireSourceGroup</th>\n",
              "      <th>HireSourceGroup_avg</th>\n",
              "      <th>Max_EduInstituteGroup</th>\n",
              "      <th>Max_EduInstituteGroup_avg</th>\n",
              "    </tr>\n",
              "  </thead>\n",
              "  <tbody>\n",
              "    <tr>\n",
              "      <th>0</th>\n",
              "      <td>Unknown</td>\n",
              "      <td>0.663682</td>\n",
              "      <td>Unknown</td>\n",
              "      <td>0.660564</td>\n",
              "      <td>Unknown</td>\n",
              "      <td>0.724638</td>\n",
              "    </tr>\n",
              "    <tr>\n",
              "      <th>1</th>\n",
              "      <td>Unknown</td>\n",
              "      <td>0.663682</td>\n",
              "      <td>Unknown</td>\n",
              "      <td>0.660564</td>\n",
              "      <td>UNIV</td>\n",
              "      <td>0.664487</td>\n",
              "    </tr>\n",
              "    <tr>\n",
              "      <th>2</th>\n",
              "      <td>Unknown</td>\n",
              "      <td>0.663682</td>\n",
              "      <td>Unknown</td>\n",
              "      <td>0.660564</td>\n",
              "      <td>Unknown</td>\n",
              "      <td>0.724638</td>\n",
              "    </tr>\n",
              "    <tr>\n",
              "      <th>3</th>\n",
              "      <td>Unknown</td>\n",
              "      <td>0.663682</td>\n",
              "      <td>Unknown</td>\n",
              "      <td>0.660564</td>\n",
              "      <td>SCHL</td>\n",
              "      <td>0.638224</td>\n",
              "    </tr>\n",
              "    <tr>\n",
              "      <th>4</th>\n",
              "      <td>Unknown</td>\n",
              "      <td>0.663682</td>\n",
              "      <td>Unknown</td>\n",
              "      <td>0.660564</td>\n",
              "      <td>Unknown</td>\n",
              "      <td>0.724638</td>\n",
              "    </tr>\n",
              "    <tr>\n",
              "      <th>5</th>\n",
              "      <td>Unknown</td>\n",
              "      <td>0.663682</td>\n",
              "      <td>Unknown</td>\n",
              "      <td>0.660564</td>\n",
              "      <td>Unknown</td>\n",
              "      <td>0.724638</td>\n",
              "    </tr>\n",
              "    <tr>\n",
              "      <th>6</th>\n",
              "      <td>Unknown</td>\n",
              "      <td>0.663682</td>\n",
              "      <td>Unknown</td>\n",
              "      <td>0.660564</td>\n",
              "      <td>Unknown</td>\n",
              "      <td>0.724638</td>\n",
              "    </tr>\n",
              "    <tr>\n",
              "      <th>7</th>\n",
              "      <td>Unknown</td>\n",
              "      <td>0.663682</td>\n",
              "      <td>Unknown</td>\n",
              "      <td>0.660564</td>\n",
              "      <td>UNIV</td>\n",
              "      <td>0.664487</td>\n",
              "    </tr>\n",
              "    <tr>\n",
              "      <th>8</th>\n",
              "      <td>Unknown</td>\n",
              "      <td>0.663682</td>\n",
              "      <td>Unknown</td>\n",
              "      <td>0.660564</td>\n",
              "      <td>UNIV</td>\n",
              "      <td>0.664487</td>\n",
              "    </tr>\n",
              "    <tr>\n",
              "      <th>9</th>\n",
              "      <td>Unknown</td>\n",
              "      <td>0.663682</td>\n",
              "      <td>Unknown</td>\n",
              "      <td>0.660564</td>\n",
              "      <td>UNIV</td>\n",
              "      <td>0.664487</td>\n",
              "    </tr>\n",
              "  </tbody>\n",
              "</table>\n",
              "</div>"
            ],
            "text/plain": [
              "  HireType  HireType_avg HireSourceGroup  HireSourceGroup_avg  \\\n",
              "0  Unknown      0.663682         Unknown             0.660564   \n",
              "1  Unknown      0.663682         Unknown             0.660564   \n",
              "2  Unknown      0.663682         Unknown             0.660564   \n",
              "3  Unknown      0.663682         Unknown             0.660564   \n",
              "4  Unknown      0.663682         Unknown             0.660564   \n",
              "5  Unknown      0.663682         Unknown             0.660564   \n",
              "6  Unknown      0.663682         Unknown             0.660564   \n",
              "7  Unknown      0.663682         Unknown             0.660564   \n",
              "8  Unknown      0.663682         Unknown             0.660564   \n",
              "9  Unknown      0.663682         Unknown             0.660564   \n",
              "\n",
              "  Max_EduInstituteGroup  Max_EduInstituteGroup_avg  \n",
              "0               Unknown                   0.724638  \n",
              "1                  UNIV                   0.664487  \n",
              "2               Unknown                   0.724638  \n",
              "3                  SCHL                   0.638224  \n",
              "4               Unknown                   0.724638  \n",
              "5               Unknown                   0.724638  \n",
              "6               Unknown                   0.724638  \n",
              "7                  UNIV                   0.664487  \n",
              "8                  UNIV                   0.664487  \n",
              "9                  UNIV                   0.664487  "
            ]
          },
          "metadata": {
            "tags": []
          },
          "execution_count": 28
        }
      ]
    },
    {
      "metadata": {
        "id": "alIlKZRrqpcA",
        "colab_type": "code",
        "colab": {}
      },
      "cell_type": "code",
      "source": [
        "# Drop the original features\n",
        "X_train = X_train.drop(['Max_EduInstituteGroup','HireType','HireSourceGroup'], axis=1)\n",
        "X_test = X_test.drop(['Max_EduInstituteGroup','HireType','HireSourceGroup'], axis=1)"
      ],
      "execution_count": 0,
      "outputs": []
    },
    {
      "metadata": {
        "id": "q7-ZHCTTqpcC",
        "colab_type": "code",
        "colab": {}
      },
      "cell_type": "code",
      "source": [
        "# Define model\n",
        "model = XGBClassifier(    \n",
        "    n_jobs=16,\n",
        "    n_estimators=400,\n",
        "    max_depth=4,\n",
        "    objective=\"binary:logistic\",\n",
        "    learning_rate=0.07, \n",
        "    subsample=0.9,\n",
        "    min_child_weight=6,\n",
        "    colsample_bytree=.9,\n",
        "    scale_pos_weight=0.8,\n",
        "    gamma=8,\n",
        "    reg_alpha=6,\n",
        "    reg_lambda=1.3)"
      ],
      "execution_count": 0,
      "outputs": []
    },
    {
      "metadata": {
        "id": "Il_SNcN3qpcF",
        "colab_type": "code",
        "colab": {
          "base_uri": "https://localhost:8080/",
          "height": 119
        },
        "outputId": "fa02a73e-85d5-47be-d2e3-b178ab56301d"
      },
      "cell_type": "code",
      "source": [
        "# Train\n",
        "model.fit(X_train, y_train)\n",
        "print(model)"
      ],
      "execution_count": 31,
      "outputs": [
        {
          "output_type": "stream",
          "text": [
            "XGBClassifier(base_score=0.5, booster='gbtree', colsample_bylevel=1,\n",
            "       colsample_bytree=0.9, gamma=8, learning_rate=0.07, max_delta_step=0,\n",
            "       max_depth=4, min_child_weight=6, missing=None, n_estimators=400,\n",
            "       n_jobs=16, nthread=None, objective='binary:logistic',\n",
            "       random_state=0, reg_alpha=6, reg_lambda=1.3, scale_pos_weight=0.8,\n",
            "       seed=None, silent=True, subsample=0.9)\n"
          ],
          "name": "stdout"
        }
      ]
    },
    {
      "metadata": {
        "id": "zgezbqSyqpcL",
        "colab_type": "code",
        "colab": {}
      },
      "cell_type": "code",
      "source": [
        "# make predictions for test data\n",
        "y_pred = model.predict_proba(X_test)[:,1]\n",
        "predictions = [np.round(value) for value in y_pred]"
      ],
      "execution_count": 0,
      "outputs": []
    },
    {
      "metadata": {
        "id": "5Mrf1syQsbgm",
        "colab_type": "text"
      },
      "cell_type": "markdown",
      "source": [
        "### Evaluation"
      ]
    },
    {
      "metadata": {
        "id": "KGbgiK1fqpcQ",
        "colab_type": "code",
        "colab": {
          "base_uri": "https://localhost:8080/",
          "height": 136
        },
        "outputId": "1f4b9911-f9b5-45e6-b1b6-42f7869ad48b"
      },
      "cell_type": "code",
      "source": [
        "print(classification_report(y_test, predictions))"
      ],
      "execution_count": 33,
      "outputs": [
        {
          "output_type": "stream",
          "text": [
            "             precision    recall  f1-score   support\n",
            "\n",
            "        0.0       0.91      0.79      0.84       959\n",
            "        1.0       0.30      0.53      0.38       163\n",
            "\n",
            "avg / total       0.82      0.75      0.78      1122\n",
            "\n"
          ],
          "name": "stdout"
        }
      ]
    },
    {
      "metadata": {
        "id": "-v7FjF6XqpcT",
        "colab_type": "code",
        "colab": {
          "base_uri": "https://localhost:8080/",
          "height": 51
        },
        "outputId": "14e43e33-9c22-400e-b044-a1f147c84039"
      },
      "cell_type": "code",
      "source": [
        "print(confusion_matrix(y_test, predictions))"
      ],
      "execution_count": 34,
      "outputs": [
        {
          "output_type": "stream",
          "text": [
            "[[756 203]\n",
            " [ 76  87]]\n"
          ],
          "name": "stdout"
        }
      ]
    },
    {
      "metadata": {
        "id": "RL3LDcOuqpcX",
        "colab_type": "code",
        "colab": {
          "base_uri": "https://localhost:8080/",
          "height": 959
        },
        "outputId": "87568fd6-9e24-4493-bf6c-4c4e51bedb38"
      },
      "cell_type": "code",
      "source": [
        "# View tree\n",
        "# Because graphviz seams to have some resolution problem with pyplot and jupyter, we have to use to trick below to get a readable graph\n",
        "# fig = plt.gcf()\n",
        "# fig.set_size_inches(10, 10)\n",
        "fig, ax = plt.subplots(figsize=(10, 10), dpi=200)\n",
        "\n",
        "# Plot the n-th tree of the model. Note that the model consists of many tress (as defined when creating the model)\n",
        "plot_tree(model, num_trees=0, rankdir='LR', ax=ax)\n",
        "# fig.savefig('tree.png')"
      ],
      "execution_count": 35,
      "outputs": [
        {
          "output_type": "execute_result",
          "data": {
            "text/plain": [
              "<matplotlib.axes._subplots.AxesSubplot at 0x7f99d747ef28>"
            ]
          },
          "metadata": {
            "tags": []
          },
          "execution_count": 35
        },
        {
          "output_type": "display_data",
          "data": {
            "image/png": "[encoded data removed]",
            "text/plain": [
              "<matplotlib.figure.Figure at 0x7f99d747e780>"
            ]
          },
          "metadata": {
            "tags": []
          }
        }
      ]
    },
    {
      "metadata": {
        "id": "LbMlleQLqpca",
        "colab_type": "code",
        "colab": {
          "base_uri": "https://localhost:8080/",
          "height": 909
        },
        "outputId": "511a04c3-d7ec-4c6a-cf19-62d960afb854"
      },
      "cell_type": "code",
      "source": [
        "# Plot how many times each feature is used as node in the tree\n",
        "plot_importance(model)"
      ],
      "execution_count": 36,
      "outputs": [
        {
          "output_type": "execute_result",
          "data": {
            "text/plain": [
              "<matplotlib.axes._subplots.AxesSubplot at 0x7f99d5410ba8>"
            ]
          },
          "metadata": {
            "tags": []
          },
          "execution_count": 36
        },
        {
          "output_type": "display_data",
          "data": {
            "image/png": "[encoded data removed]",
            "text/plain": [
              "<matplotlib.figure.Figure at 0x7f99d5433470>"
            ]
          },
          "metadata": {
            "tags": []
          }
        }
      ]
    },
    {
      "metadata": {
        "id": "KVM81XULuR9t",
        "colab_type": "code",
        "colab": {}
      },
      "cell_type": "code",
      "source": [
        ""
      ],
      "execution_count": 0,
      "outputs": []
    }
  ]
}