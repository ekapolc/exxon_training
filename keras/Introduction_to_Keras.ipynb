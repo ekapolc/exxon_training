{
  "nbformat": 4,
  "nbformat_minor": 0,
  "metadata": {
    "colab": {
      "name": "Introduction to Keras.ipynb",
      "version": "0.3.2",
      "provenance": [],
      "include_colab_link": true
    },
    "kernelspec": {
      "name": "python3",
      "display_name": "Python 3"
    },
    "accelerator": "GPU"
  },
  "cells": [
    {
      "cell_type": "markdown",
      "metadata": {
        "id": "view-in-github",
        "colab_type": "text"
      },
      "source": [
        "[View in Colaboratory](https://colab.research.google.com/github/ekapolc/exxon_training/blob/master/keras/Introduction_to_Keras.ipynb)"
      ]
    },
    {
      "metadata": {
        "id": "NIUEBbhi8nvT",
        "colab_type": "text"
      },
      "cell_type": "markdown",
      "source": [
        "# Lab Introduction to Keras"
      ]
    },
    {
      "metadata": {
        "id": "mhpy2QLH8nvY",
        "colab_type": "code",
        "colab": {
          "base_uri": "https://localhost:8080/",
          "height": 35
        },
        "outputId": "0ba04fa2-ccdd-4f24-ee4e-e86179ad9f17"
      },
      "cell_type": "code",
      "source": [
        "import numpy as np\n",
        "import matplotlib.pyplot as plt\n",
        "\n",
        "from keras.datasets import mnist\n",
        "from keras.models import Sequential, Model\n",
        "from keras.layers.core import Dense, Dropout, Activation, Flatten\n",
        "from keras.layers import Conv2D, MaxPooling2D, Input\n",
        "from keras.utils import np_utils\n",
        "from keras.preprocessing.image import ImageDataGenerator\n",
        "from keras.callbacks import EarlyStopping\n",
        "\n",
        "%matplotlib inline"
      ],
      "execution_count": 1,
      "outputs": [
        {
          "output_type": "stream",
          "text": [
            "Using TensorFlow backend.\n"
          ],
          "name": "stderr"
        }
      ]
    },
    {
      "metadata": {
        "id": "bglLODtL8nvk",
        "colab_type": "text"
      },
      "cell_type": "markdown",
      "source": [
        "# Loading train data"
      ]
    },
    {
      "metadata": {
        "id": "czAemaxm8nvl",
        "colab_type": "code",
        "colab": {
          "base_uri": "https://localhost:8080/",
          "height": 90
        },
        "outputId": "e59d28de-289b-4805-f116-50f5dfaea964"
      },
      "cell_type": "code",
      "source": [
        "nb_classes = 10\n",
        "\n",
        "# the data, shuffled and split between tran and test sets\n",
        "(X_train, y_train), (X_test, y_test) = mnist.load_data()\n",
        "print(\"X_train original shape\", X_train.shape)\n",
        "print(\"y_train original shape\", y_train.shape)"
      ],
      "execution_count": 2,
      "outputs": [
        {
          "output_type": "stream",
          "text": [
            "Downloading data from https://s3.amazonaws.com/img-datasets/mnist.npz\n",
            "11493376/11490434 [==============================] - 10s 1us/step\n",
            "X_train original shape (60000, 28, 28)\n",
            "y_train original shape (60000,)\n"
          ],
          "name": "stdout"
        }
      ]
    },
    {
      "metadata": {
        "id": "7yUgdY4l8nvw",
        "colab_type": "code",
        "colab": {
          "base_uri": "https://localhost:8080/",
          "height": 205
        },
        "outputId": "1c972dfa-ede2-4492-e92c-3b066a040ac7"
      },
      "cell_type": "code",
      "source": [
        "for i in range(6):\n",
        "    plt.subplot(3,3,i+1)\n",
        "    plt.imshow(X_train[i], cmap='gray', interpolation='none')\n",
        "    plt.title(\"Class {}\".format(y_train[i]))"
      ],
      "execution_count": 3,
      "outputs": [
        {
          "output_type": "display_data",
          "data": {
            "image/png": "[encoded data removed]",
            "text/plain": [
              "<matplotlib.figure.Figure at 0x7fd3c14a46a0>"
            ]
          },
          "metadata": {
            "tags": []
          }
        }
      ]
    },
    {
      "metadata": {
        "id": "5eJzG60q8nv4",
        "colab_type": "text"
      },
      "cell_type": "markdown",
      "source": [
        "# Format the data for training\n",
        "Our neural-network is going to take a single vector for each training example, so we need to reshape the input so that each 28x28 image becomes a single 784 dimensional vector. We'll also scale the inputs to be in the range [0-1] rather than [0-255]"
      ]
    },
    {
      "metadata": {
        "id": "66ukk5Vs8nv6",
        "colab_type": "code",
        "colab": {
          "base_uri": "https://localhost:8080/",
          "height": 54
        },
        "outputId": "70562b0a-262a-4b21-b36b-52158f280e3a"
      },
      "cell_type": "code",
      "source": [
        "X_train = X_train.reshape(60000, 784)\n",
        "X_test = X_test.reshape(10000, 784)\n",
        "X_train = X_train.astype('float32') \n",
        "X_test = X_test.astype('float32')\n",
        "X_train /= 255\n",
        "X_test /= 255\n",
        "print(\"Training shape\", X_train.shape)\n",
        "print(\"Testing shape\", X_test.shape)"
      ],
      "execution_count": 4,
      "outputs": [
        {
          "output_type": "stream",
          "text": [
            "Training shape (60000, 784)\n",
            "Testing shape (10000, 784)\n"
          ],
          "name": "stdout"
        }
      ]
    },
    {
      "metadata": {
        "id": "NrAcaG0Z8nwD",
        "colab_type": "text"
      },
      "cell_type": "markdown",
      "source": [
        "Modify the target matrices to be in the one-hot format"
      ]
    },
    {
      "metadata": {
        "id": "7uoAxnoP8nwE",
        "colab_type": "code",
        "colab": {}
      },
      "cell_type": "code",
      "source": [
        "Y_train = np_utils.to_categorical(y_train, nb_classes)\n",
        "Y_test = np_utils.to_categorical(y_test, nb_classes)"
      ],
      "execution_count": 0,
      "outputs": []
    },
    {
      "metadata": {
        "id": "R_snCF7H8nwV",
        "colab_type": "text"
      },
      "cell_type": "markdown",
      "source": [
        "# Lab 1.1 Dense Layer"
      ]
    },
    {
      "metadata": {
        "id": "RAY-UHYA8nwX",
        "colab_type": "text"
      },
      "cell_type": "markdown",
      "source": [
        "Lab 1.1 We only have dense layer.\n",
        "\n",
        "Dense layers are keras alias for Fully connected layers. These layers give the ability to classify the features learned by the CNN.\n",
        "\n",
        "Dense layers have 512 neurons and activation function is 'relu'.\n",
        "\n",
        "The last layer is the Dense layer with 10 neurons and activation function is Softmax . The neurons in this layer should be equal to the number of classes we want to predict as this is the output layer. \n",
        "\n",
        "function -> Dense(units , activation = 'activation')(previous_layer)\n"
      ]
    },
    {
      "metadata": {
        "id": "PtpzGK7R8nwY",
        "colab_type": "text"
      },
      "cell_type": "markdown",
      "source": [
        "If you create model success your model must have model.summary() like below :"
      ]
    },
    {
      "metadata": {
        "id": "xteD3dLv8nwa",
        "colab_type": "text"
      },
      "cell_type": "markdown",
      "source": [
        "<img src=\"https://github.com/ekapolc/exxon_training/raw/master/figures/dense.PNG\">"
      ]
    },
    {
      "metadata": {
        "id": "2PVhhzF-8nwb",
        "colab_type": "code",
        "colab": {
          "base_uri": "https://localhost:8080/",
          "height": 254
        },
        "outputId": "3363a874-171f-4b7e-cc97-fd172657dbc1"
      },
      "cell_type": "code",
      "source": [
        "# create only dense layer\n",
        "input_tensor = Input(shape = (784,))\n",
        "\n",
        "### To Do ###\n",
        "\n",
        "\n",
        "######\n",
        "\n",
        "pred = Dense(10, activation = 'softmax')(previous_layer)\n",
        "model = Model(inputs = input_tensor, outputs = pred)\n",
        "model.compile(loss='categorical_crossentropy', optimizer='adam',\n",
        "              metrics=['accuracy'])\n",
        "model.summary()"
      ],
      "execution_count": 6,
      "outputs": [
        {
          "output_type": "stream",
          "text": [
            "_________________________________________________________________\n",
            "Layer (type)                 Output Shape              Param #   \n",
            "=================================================================\n",
            "input_1 (InputLayer)         (None, 784)               0         \n",
            "_________________________________________________________________\n",
            "dense_1 (Dense)              (None, 512)               401920    \n",
            "_________________________________________________________________\n",
            "dense_2 (Dense)              (None, 10)                5130      \n",
            "=================================================================\n",
            "Total params: 407,050\n",
            "Trainable params: 407,050\n",
            "Non-trainable params: 0\n",
            "_________________________________________________________________\n"
          ],
          "name": "stdout"
        }
      ]
    },
    {
      "metadata": {
        "id": "hQqw9Wrk8nwk",
        "colab_type": "code",
        "colab": {
          "base_uri": "https://localhost:8080/",
          "height": 399
        },
        "outputId": "823434e1-14c2-40c0-c863-9ff9ac6c8915"
      },
      "cell_type": "code",
      "source": [
        "history = model.fit(X_train, Y_train,batch_size=128, epochs=nb_classes,\n",
        "          verbose=1,validation_data=(X_test, Y_test))"
      ],
      "execution_count": 7,
      "outputs": [
        {
          "output_type": "stream",
          "text": [
            "Train on 60000 samples, validate on 10000 samples\n",
            "Epoch 1/10\n",
            "60000/60000 [==============================] - 4s 67us/step - loss: 0.2755 - acc: 0.9214 - val_loss: 0.1359 - val_acc: 0.9595\n",
            "Epoch 2/10\n",
            "60000/60000 [==============================] - 3s 50us/step - loss: 0.1083 - acc: 0.9686 - val_loss: 0.0915 - val_acc: 0.9718\n",
            "Epoch 3/10\n",
            "60000/60000 [==============================] - 3s 50us/step - loss: 0.0715 - acc: 0.9789 - val_loss: 0.0750 - val_acc: 0.9768\n",
            "Epoch 4/10\n",
            "60000/60000 [==============================] - 3s 50us/step - loss: 0.0500 - acc: 0.9857 - val_loss: 0.0800 - val_acc: 0.9762\n",
            "Epoch 5/10\n",
            "60000/60000 [==============================] - 3s 48us/step - loss: 0.0380 - acc: 0.9890 - val_loss: 0.0666 - val_acc: 0.9789\n",
            "Epoch 6/10\n",
            "60000/60000 [==============================] - 3s 48us/step - loss: 0.0276 - acc: 0.9925 - val_loss: 0.0666 - val_acc: 0.9801\n",
            "Epoch 7/10\n",
            "60000/60000 [==============================] - 3s 50us/step - loss: 0.0213 - acc: 0.9940 - val_loss: 0.0726 - val_acc: 0.9785\n",
            "Epoch 8/10\n",
            "60000/60000 [==============================] - 3s 50us/step - loss: 0.0158 - acc: 0.9959 - val_loss: 0.0618 - val_acc: 0.9826\n",
            "Epoch 9/10\n",
            "60000/60000 [==============================] - 3s 50us/step - loss: 0.0123 - acc: 0.9971 - val_loss: 0.0696 - val_acc: 0.9810\n",
            "Epoch 10/10\n",
            "60000/60000 [==============================] - 3s 50us/step - loss: 0.0089 - acc: 0.9980 - val_loss: 0.0740 - val_acc: 0.9800\n"
          ],
          "name": "stdout"
        }
      ]
    },
    {
      "metadata": {
        "id": "GBIa2Vvw8nwt",
        "colab_type": "code",
        "colab": {
          "base_uri": "https://localhost:8080/",
          "height": 54
        },
        "outputId": "82917d6f-346d-4e5b-cc6d-816ddcf4fe5a"
      },
      "cell_type": "code",
      "source": [
        "score = model.evaluate(X_test, Y_test, verbose=0)\n",
        "print('Test score:', score[0])\n",
        "print('Test accuracy:', score[1])"
      ],
      "execution_count": 8,
      "outputs": [
        {
          "output_type": "stream",
          "text": [
            "Test score: 0.0740442203062732\n",
            "Test accuracy: 0.98\n"
          ],
          "name": "stdout"
        }
      ]
    },
    {
      "metadata": {
        "id": "rZUo44-28nw1",
        "colab_type": "code",
        "colab": {
          "base_uri": "https://localhost:8080/",
          "height": 35
        },
        "outputId": "371baf2a-31c7-4974-f4cc-b85ee3e673bb"
      },
      "cell_type": "code",
      "source": [
        "history_dict = history.history\n",
        "history_dict.keys()"
      ],
      "execution_count": 9,
      "outputs": [
        {
          "output_type": "execute_result",
          "data": {
            "text/plain": [
              "dict_keys(['val_loss', 'val_acc', 'loss', 'acc'])"
            ]
          },
          "metadata": {
            "tags": []
          },
          "execution_count": 9
        }
      ]
    },
    {
      "metadata": {
        "id": "LXTaH7Ea8nw-",
        "colab_type": "code",
        "colab": {
          "base_uri": "https://localhost:8080/",
          "height": 297
        },
        "outputId": "1b9bb46e-5bc5-4df3-fe61-42cb78048bc5"
      },
      "cell_type": "code",
      "source": [
        "loss_values = history_dict['loss']\n",
        "val_loss_values = history_dict['val_loss']\n",
        "epochs = range(1, len(loss_values) + 1)\n",
        "\n",
        "plt.plot(epochs, loss_values, 'bo')\n",
        "plt.plot(epochs, val_loss_values, 'b+')\n",
        "plt.xlabel('Epochs')\n",
        "plt.ylabel('Loss')"
      ],
      "execution_count": 10,
      "outputs": [
        {
          "output_type": "execute_result",
          "data": {
            "text/plain": [
              "Text(0,0.5,'Loss')"
            ]
          },
          "metadata": {
            "tags": []
          },
          "execution_count": 10
        },
        {
          "output_type": "display_data",
          "data": {
            "image/png": "[encoded data removed]",
            "text/plain": [
              "<matplotlib.figure.Figure at 0x7fd39e6ab2e8>"
            ]
          },
          "metadata": {
            "tags": []
          }
        }
      ]
    },
    {
      "metadata": {
        "id": "Qu0ubyI_8nxK",
        "colab_type": "code",
        "colab": {},
        "outputId": "f576c726-6bf2-495a-acbe-9dd9609eaf03"
      },
      "cell_type": "code",
      "source": [
        "acc_values = history_dict['acc']\n",
        "val_acc_values = history_dict['val_acc']\n",
        "\n",
        "plt.plot(epochs, acc_values, 'bo')\n",
        "plt.plot(epochs, val_acc_values, 'b+')\n",
        "plt.xlabel('Epochs')\n",
        "plt.ylabel('Accuracy')\n",
        "\n",
        "plt.show()"
      ],
      "execution_count": 0,
      "outputs": [
        {
          "output_type": "display_data",
          "data": {
            "image/png": "[encoded data removed]",
            "text/plain": [
              "<matplotlib.figure.Figure at 0x23efd625438>"
            ]
          },
          "metadata": {
            "tags": []
          }
        }
      ]
    },
    {
      "metadata": {
        "id": "Cg9FH6i68nxV",
        "colab_type": "text"
      },
      "cell_type": "markdown",
      "source": [
        "# Lab1.2 Dense + Dropout Layer"
      ]
    },
    {
      "metadata": {
        "id": "nhoT_SIU8nxX",
        "colab_type": "text"
      },
      "cell_type": "markdown",
      "source": [
        "Lab 1.2 We have 2 dense layer and dropout layer.\n",
        "\n",
        "Dense layers have 512 neurons and activation function is 'relu'.\n",
        "\n",
        "Dropout is the method used to reduce overfitting. It forces the model to learn multiple independent representations of the same data by randomly disabling neurons in the learning phase. In our model, dropout will randomnly disable 20% of the neurons.\n",
        "\n",
        "The last layer is the Dense layer with 10 neurons and activation function is Softmax .\n",
        "\n",
        "\n",
        "function -> Dense(units , activation = 'activation')(previous_layer)\n",
        "\n",
        "function -> Dropout(rate)(previous_layer)"
      ]
    },
    {
      "metadata": {
        "id": "wQ_Jq-sq8nxY",
        "colab_type": "text"
      },
      "cell_type": "markdown",
      "source": [
        "If you create model success your model must have model.summary() like below :"
      ]
    },
    {
      "metadata": {
        "id": "WAjnAncZ8nxZ",
        "colab_type": "text"
      },
      "cell_type": "markdown",
      "source": [
        "<img src=\"https://github.com/ekapolc/exxon_training/raw/master/figures/dense%2Bdrop.PNG\">"
      ]
    },
    {
      "metadata": {
        "id": "AB_zKhp58nxa",
        "colab_type": "code",
        "colab": {},
        "outputId": "af89610e-29c0-455d-a99f-100554d6072b"
      },
      "cell_type": "code",
      "source": [
        "# create only dense + dropout layer\n",
        "input_tensor = Input(shape = (784,))\n",
        "\n",
        "### To Do ###\n",
        "\n",
        "\n",
        "\n",
        "\n",
        "\n",
        "######\n",
        "\n",
        "model = Model(inputs = input_tensor, outputs = previous_layer)\n",
        "model.compile(loss='categorical_crossentropy', optimizer='adam',\n",
        "              metrics=['accuracy'])\n",
        "model.summary()"
      ],
      "execution_count": 0,
      "outputs": [
        {
          "output_type": "stream",
          "text": [
            "_________________________________________________________________\n",
            "Layer (type)                 Output Shape              Param #   \n",
            "=================================================================\n",
            "input_2 (InputLayer)         (None, 784)               0         \n",
            "_________________________________________________________________\n",
            "dense_3 (Dense)              (None, 512)               401920    \n",
            "_________________________________________________________________\n",
            "dropout_1 (Dropout)          (None, 512)               0         \n",
            "_________________________________________________________________\n",
            "dense_4 (Dense)              (None, 10)                5130      \n",
            "=================================================================\n",
            "Total params: 407,050\n",
            "Trainable params: 407,050\n",
            "Non-trainable params: 0\n",
            "_________________________________________________________________\n"
          ],
          "name": "stdout"
        }
      ]
    },
    {
      "metadata": {
        "id": "NVsCuyKm8nxh",
        "colab_type": "code",
        "colab": {},
        "outputId": "99b4a3b7-8ace-4e78-8288-47bcf87bed34"
      },
      "cell_type": "code",
      "source": [
        "history = model.fit(X_train, Y_train,batch_size=128, epochs=nb_classes,\n",
        "          verbose=1,validation_data=(X_test, Y_test))"
      ],
      "execution_count": 0,
      "outputs": [
        {
          "output_type": "stream",
          "text": [
            "Train on 60000 samples, validate on 10000 samples\n",
            "Epoch 1/10\n",
            "60000/60000 [==============================] - 7s 116us/step - loss: 0.2783 - acc: 0.9206 - val_loss: 0.1256 - val_acc: 0.9632\n",
            "Epoch 2/10\n",
            "60000/60000 [==============================] - 6s 106us/step - loss: 0.1193 - acc: 0.9649 - val_loss: 0.0894 - val_acc: 0.9719\n",
            "Epoch 3/10\n",
            "60000/60000 [==============================] - 6s 105us/step - loss: 0.0834 - acc: 0.9754 - val_loss: 0.0773 - val_acc: 0.9760\n",
            "Epoch 4/10\n",
            "60000/60000 [==============================] - 6s 105us/step - loss: 0.0631 - acc: 0.9805 - val_loss: 0.0672 - val_acc: 0.9791\n",
            "Epoch 5/10\n",
            "60000/60000 [==============================] - 6s 102us/step - loss: 0.0488 - acc: 0.9850 - val_loss: 0.0646 - val_acc: 0.9787\n",
            "Epoch 6/10\n",
            "60000/60000 [==============================] - 6s 104us/step - loss: 0.0405 - acc: 0.9877 - val_loss: 0.0662 - val_acc: 0.9790\n",
            "Epoch 7/10\n",
            "60000/60000 [==============================] - 7s 111us/step - loss: 0.0335 - acc: 0.9901 - val_loss: 0.0619 - val_acc: 0.9794\n",
            "Epoch 8/10\n",
            "60000/60000 [==============================] - 6s 104us/step - loss: 0.0284 - acc: 0.9917 - val_loss: 0.0643 - val_acc: 0.9803\n",
            "Epoch 9/10\n",
            "60000/60000 [==============================] - 6s 102us/step - loss: 0.0234 - acc: 0.9930 - val_loss: 0.0591 - val_acc: 0.9815\n",
            "Epoch 10/10\n",
            "60000/60000 [==============================] - 6s 102us/step - loss: 0.0212 - acc: 0.9936 - val_loss: 0.0603 - val_acc: 0.9816\n"
          ],
          "name": "stdout"
        }
      ]
    },
    {
      "metadata": {
        "id": "UPiVKr518nxs",
        "colab_type": "code",
        "colab": {},
        "outputId": "0d3e2af0-a8fd-4d35-f3fc-2c093cbdd366"
      },
      "cell_type": "code",
      "source": [
        "score = model.evaluate(X_test, Y_test, verbose=0)\n",
        "print('Test score:', score[0])\n",
        "print('Test accuracy:', score[1])"
      ],
      "execution_count": 0,
      "outputs": [
        {
          "output_type": "stream",
          "text": [
            "Test score: 0.0602643587793\n",
            "Test accuracy: 0.9816\n"
          ],
          "name": "stdout"
        }
      ]
    },
    {
      "metadata": {
        "id": "dlF0eiWX8nx1",
        "colab_type": "code",
        "colab": {},
        "outputId": "44024c2b-b742-488b-fdc5-d61602902137"
      },
      "cell_type": "code",
      "source": [
        "history_dict = history.history\n",
        "history_dict.keys()"
      ],
      "execution_count": 0,
      "outputs": [
        {
          "output_type": "execute_result",
          "data": {
            "text/plain": [
              "dict_keys(['val_loss', 'val_acc', 'loss', 'acc'])"
            ]
          },
          "metadata": {
            "tags": []
          },
          "execution_count": 15
        }
      ]
    },
    {
      "metadata": {
        "id": "9cdwivjK8nx7",
        "colab_type": "code",
        "colab": {},
        "outputId": "57762570-d4d9-4bf7-cf1c-f5491642332b"
      },
      "cell_type": "code",
      "source": [
        "loss_values = history_dict['loss']\n",
        "val_loss_values = history_dict['val_loss']\n",
        "epochs = range(1, len(loss_values) + 1)\n",
        "\n",
        "plt.plot(epochs, loss_values, 'bo')\n",
        "plt.plot(epochs, val_loss_values, 'b+')\n",
        "plt.xlabel('Epochs')\n",
        "plt.ylabel('Loss')"
      ],
      "execution_count": 0,
      "outputs": [
        {
          "output_type": "execute_result",
          "data": {
            "text/plain": [
              "Text(0,0.5,'Loss')"
            ]
          },
          "metadata": {
            "tags": []
          },
          "execution_count": 16
        },
        {
          "output_type": "display_data",
          "data": {
            "image/png": "[encoded data removed]",
            "text/plain": [
              "<matplotlib.figure.Figure at 0x23efe0eca20>"
            ]
          },
          "metadata": {
            "tags": []
          }
        }
      ]
    },
    {
      "metadata": {
        "id": "siHfQBax8nyE",
        "colab_type": "code",
        "colab": {},
        "outputId": "3cce8de0-f9b3-4b4a-937f-18cc77542dbe"
      },
      "cell_type": "code",
      "source": [
        "acc_values = history_dict['acc']\n",
        "val_acc_values = history_dict['val_acc']\n",
        "\n",
        "plt.plot(epochs, acc_values, 'bo')\n",
        "plt.plot(epochs, val_acc_values, 'b+')\n",
        "plt.xlabel('Epochs')\n",
        "plt.ylabel('Accuracy')\n",
        "\n",
        "plt.show()"
      ],
      "execution_count": 0,
      "outputs": [
        {
          "output_type": "display_data",
          "data": {
            "image/png": "[encoded data removed]",
            "text/plain": [
              "<matplotlib.figure.Figure at 0x23efe0ecba8>"
            ]
          },
          "metadata": {
            "tags": []
          }
        }
      ]
    },
    {
      "metadata": {
        "id": "djGA4fd18nyN",
        "colab_type": "text"
      },
      "cell_type": "markdown",
      "source": [
        "# Lab 1.3 Convolutional Neural Network (CNN)\n",
        "\n",
        "We also need to specify the shape of the input which is (28, 28, 1), but we have to specify it only once.\n",
        "\n",
        "The second layer is the Activation layer. We have used ReLU (rectified linear unit) as our activation function. ReLU function is f(x) = max(0, x), where x is the input. It sets all negative values\n",
        "\n",
        "The third layer is the MaxPooling layer. MaxPooling layer is used to down-sample the input to enable the model to make assumptions about the features so as to reduce over-fitting\n",
        "\n",
        "After creating all the convolutional layers, we need to flatten them, so that they can act as an input to the Dense layers.\n",
        "\n",
        "Dense layers have 512 neurons and activation function is 'relu'.\n",
        "\n",
        "Dropout will randomnly disable 20% of the neurons.\n",
        "\n",
        "The last layer is the Dense layer with 10 neurons and activation function is Softmax . \n",
        "\n",
        "Our model have architecture belowing:"
      ]
    },
    {
      "metadata": {
        "id": "f9fxW0d-8nyO",
        "colab_type": "text"
      },
      "cell_type": "markdown",
      "source": [
        "<img src=\"https://github.com/ekapolc/exxon_training/raw/master/figures/Cnn-cifar.png\">"
      ]
    },
    {
      "metadata": {
        "id": "Swtr9GwS8nyP",
        "colab_type": "text"
      },
      "cell_type": "markdown",
      "source": [
        "Try to create model like architecture.\n",
        "\n",
        "Function :\n",
        "\n",
        "    1. Conv2D(filters, kernel_size, activation = 'activation')(previous_layer)\n",
        "    2. MaxPooling2D(pool_size)(previous_layer)\n",
        "    3. Dropout(rate)(previous_layer)\n",
        "    4. Flatten()(previous_layer)\n",
        "    5. Dense(units , activation = 'activation')(previous_layer)"
      ]
    },
    {
      "metadata": {
        "id": "M13SPIy-8nyQ",
        "colab_type": "text"
      },
      "cell_type": "markdown",
      "source": [
        "If you create model success your model must have model.summary() like below :"
      ]
    },
    {
      "metadata": {
        "id": "rGeTbqxj8nyR",
        "colab_type": "text"
      },
      "cell_type": "markdown",
      "source": [
        "<img src=\"https://github.com/ekapolc/exxon_training/raw/master/figures/cnn.PNG\">"
      ]
    },
    {
      "metadata": {
        "id": "x5CdDyON8nyS",
        "colab_type": "code",
        "colab": {},
        "outputId": "0831e7a2-8ea2-4d0e-c637-340a937131d0"
      },
      "cell_type": "code",
      "source": [
        "X_train = X_train.reshape(60000, 28, 28, 1)\n",
        "X_test = X_test.reshape(10000, 28 ,28 ,1)\n",
        "X_train = X_train.astype('float32') \n",
        "X_test = X_test.astype('float32')\n",
        "X_train /= 255\n",
        "X_test /= 255\n",
        "print(\"Training shape\", X_train.shape)\n",
        "print(\"Testing shape\", X_test.shape)"
      ],
      "execution_count": 0,
      "outputs": [
        {
          "output_type": "stream",
          "text": [
            "Training shape (60000, 28, 28, 1)\n",
            "Testing shape (10000, 28, 28, 1)\n"
          ],
          "name": "stdout"
        }
      ]
    },
    {
      "metadata": {
        "id": "ImcvopIK8nyb",
        "colab_type": "code",
        "colab": {},
        "outputId": "f765854a-efff-4fa2-f5dc-286895945914"
      },
      "cell_type": "code",
      "source": [
        "input_tensor = Input(shape = (28,28,1))\n",
        "\n",
        "### To Do ###\n",
        "\n",
        "\n",
        "\n",
        "\n",
        "\n",
        "######\n",
        "\n",
        "model = Model(inputs = input_tensor, outputs = pre)\n",
        "model.compile(loss='categorical_crossentropy', optimizer='adam',\n",
        "              metrics=['accuracy'])\n",
        "early_stopping = EarlyStopping(patience=0, verbose=1)"
      ],
      "execution_count": 0,
      "outputs": [
        {
          "output_type": "stream",
          "text": [
            "_________________________________________________________________\n",
            "Layer (type)                 Output Shape              Param #   \n",
            "=================================================================\n",
            "input_3 (InputLayer)         (None, 28, 28, 1)         0         \n",
            "_________________________________________________________________\n",
            "conv2d_1 (Conv2D)            (None, 26, 26, 32)        320       \n",
            "_________________________________________________________________\n",
            "max_pooling2d_1 (MaxPooling2 (None, 13, 13, 32)        0         \n",
            "_________________________________________________________________\n",
            "conv2d_3 (Conv2D)            (None, 11, 11, 64)        18496     \n",
            "_________________________________________________________________\n",
            "conv2d_4 (Conv2D)            (None, 9, 9, 64)          36928     \n",
            "_________________________________________________________________\n",
            "max_pooling2d_2 (MaxPooling2 (None, 4, 4, 64)          0         \n",
            "_________________________________________________________________\n",
            "flatten_1 (Flatten)          (None, 1024)              0         \n",
            "_________________________________________________________________\n",
            "dense_5 (Dense)              (None, 512)               524800    \n",
            "_________________________________________________________________\n",
            "dropout_2 (Dropout)          (None, 512)               0         \n",
            "_________________________________________________________________\n",
            "dense_6 (Dense)              (None, 10)                5130      \n",
            "=================================================================\n",
            "Total params: 585,674\n",
            "Trainable params: 585,674\n",
            "Non-trainable params: 0\n",
            "_________________________________________________________________\n"
          ],
          "name": "stdout"
        }
      ]
    },
    {
      "metadata": {
        "id": "AiKh2WSL8nyh",
        "colab_type": "code",
        "colab": {}
      },
      "cell_type": "code",
      "source": [
        "model.compile(loss='categorical_crossentropy', optimizer='adam',metrics=['accuracy'])"
      ],
      "execution_count": 0,
      "outputs": []
    },
    {
      "metadata": {
        "id": "SE94-k5h8nyp",
        "colab_type": "code",
        "colab": {},
        "outputId": "ab987d19-6fe9-4f7b-a434-df3e34847bba"
      },
      "cell_type": "code",
      "source": [
        "history = model.fit(X_train, Y_train,batch_size=128, epochs =nb_classes,\n",
        "          verbose=1,validation_data=(X_test, Y_test), callbacks = [early_stopping])"
      ],
      "execution_count": 0,
      "outputs": [
        {
          "output_type": "stream",
          "text": [
            "Train on 60000 samples, validate on 10000 samples\n",
            "Epoch 1/10\n",
            "60000/60000 [==============================] - 76s 1ms/step - loss: 0.7960 - acc: 0.7303 - val_loss: 0.2395 - val_acc: 0.9271\n",
            "Epoch 2/10\n",
            "60000/60000 [==============================] - 76s 1ms/step - loss: 0.1831 - acc: 0.9429 - val_loss: 0.1095 - val_acc: 0.9650\n",
            "Epoch 3/10\n",
            "60000/60000 [==============================] - 77s 1ms/step - loss: 0.1121 - acc: 0.9650 - val_loss: 0.0779 - val_acc: 0.9744\n",
            "Epoch 4/10\n",
            "60000/60000 [==============================] - 75s 1ms/step - loss: 0.0863 - acc: 0.9727 - val_loss: 0.0709 - val_acc: 0.9763\n",
            "Epoch 5/10\n",
            "60000/60000 [==============================] - 74s 1ms/step - loss: 0.0717 - acc: 0.9778 - val_loss: 0.0628 - val_acc: 0.9800\n",
            "Epoch 6/10\n",
            "60000/60000 [==============================] - 74s 1ms/step - loss: 0.0609 - acc: 0.9804 - val_loss: 0.0498 - val_acc: 0.9841\n",
            "Epoch 7/10\n",
            "60000/60000 [==============================] - 76s 1ms/step - loss: 0.0526 - acc: 0.9832 - val_loss: 0.0453 - val_acc: 0.9847\n",
            "Epoch 8/10\n",
            "60000/60000 [==============================] - 83s 1ms/step - loss: 0.0471 - acc: 0.9853 - val_loss: 0.0492 - val_acc: 0.9837\n",
            "Epoch 00008: early stopping\n"
          ],
          "name": "stdout"
        }
      ]
    },
    {
      "metadata": {
        "id": "toGgA-TJ8nyw",
        "colab_type": "code",
        "colab": {},
        "outputId": "e039a1ec-2b43-4838-efff-9cd554c380c4"
      },
      "cell_type": "code",
      "source": [
        "model.save_weights(\"model.h5\")\n",
        "print(\"Save model to disk\")"
      ],
      "execution_count": 0,
      "outputs": [
        {
          "output_type": "stream",
          "text": [
            "Save model to disk\n"
          ],
          "name": "stdout"
        }
      ]
    },
    {
      "metadata": {
        "id": "kh7LyrOj8ny0",
        "colab_type": "code",
        "colab": {}
      },
      "cell_type": "code",
      "source": [
        "def create_model():\n",
        "    input_tensor = Input(shape = (28,28,1))\n",
        "    conv1 = Conv2D(32, kernel_size=3,activation = 'relu')(input_tensor)\n",
        "    conv2 = Conv2D(32, kernel_size=3,activation = 'relu')(conv1)\n",
        "    pool1 = MaxPooling2D(pool_size=(2,2))(conv1)\n",
        "    conv3 = Conv2D(64, kernel_size=3,activation = 'relu')(pool1)\n",
        "    conv4 = Conv2D(64, kernel_size=3,activation = 'relu')(conv3)\n",
        "    pool2 = MaxPooling2D(pool_size=(2,2))(conv4)\n",
        "\n",
        "    flatten_layer = Flatten()(pool2)\n",
        "\n",
        "    hidden_layer = Dense(512 , activation = 'relu')(flatten_layer)\n",
        "    drop_layer = Dropout(0.2)(hidden_layer)\n",
        "    pred = Dense(10, activation = 'softmax')(drop_layer)\n",
        "    model = Model(inputs = input_tensor, outputs = pred)\n",
        "    return model"
      ],
      "execution_count": 0,
      "outputs": []
    },
    {
      "metadata": {
        "id": "Fdy4e0as8ny9",
        "colab_type": "code",
        "colab": {},
        "outputId": "7b657b2c-1a1f-4fbf-c08f-1419a6855c89"
      },
      "cell_type": "code",
      "source": [
        "model_2 = create_model()\n",
        "model_2.load_weights(\"model.h5\")\n",
        "print(\" Load model from disk\")"
      ],
      "execution_count": 0,
      "outputs": [
        {
          "output_type": "stream",
          "text": [
            " Load model from disk\n"
          ],
          "name": "stdout"
        }
      ]
    },
    {
      "metadata": {
        "id": "CXz2EsOr8nzG",
        "colab_type": "code",
        "colab": {}
      },
      "cell_type": "code",
      "source": [
        "model_2.compile(loss='categorical_crossentropy', optimizer='adam',metrics=['accuracy'])"
      ],
      "execution_count": 0,
      "outputs": []
    },
    {
      "metadata": {
        "id": "vXLr_HMq8nzK",
        "colab_type": "code",
        "colab": {},
        "outputId": "875ef8cc-faf2-426d-b652-a5645ffef290"
      },
      "cell_type": "code",
      "source": [
        "score = model_2.evaluate(X_test, Y_test, verbose=0)\n",
        "print('Test score:', score[0])\n",
        "print('Test accuracy:', score[1])"
      ],
      "execution_count": 0,
      "outputs": [
        {
          "output_type": "stream",
          "text": [
            "Test score: 0.0492409397734\n",
            "Test accuracy: 0.9837\n"
          ],
          "name": "stdout"
        }
      ]
    },
    {
      "metadata": {
        "id": "sN661ZT48nzS",
        "colab_type": "code",
        "colab": {},
        "outputId": "c8e02d25-267e-44b4-a719-0b96ceaf3896"
      },
      "cell_type": "code",
      "source": [
        "history_dict = history.history\n",
        "history_dict.keys()"
      ],
      "execution_count": 0,
      "outputs": [
        {
          "output_type": "execute_result",
          "data": {
            "text/plain": [
              "dict_keys(['val_loss', 'val_acc', 'loss', 'acc'])"
            ]
          },
          "metadata": {
            "tags": []
          },
          "execution_count": 27
        }
      ]
    },
    {
      "metadata": {
        "id": "GH4wZznc8nzj",
        "colab_type": "code",
        "colab": {},
        "outputId": "bdfab119-1e55-4f6c-8f90-03e917168aa0"
      },
      "cell_type": "code",
      "source": [
        "loss_values = history_dict['loss']\n",
        "val_loss_values = history_dict['val_loss']\n",
        "epochs = range(1, len(loss_values) + 1)\n",
        "\n",
        "plt.plot(epochs, loss_values, 'bo')\n",
        "plt.plot(epochs, val_loss_values, 'b+')\n",
        "plt.xlabel('Epochs')\n",
        "plt.ylabel('Loss')"
      ],
      "execution_count": 0,
      "outputs": [
        {
          "output_type": "execute_result",
          "data": {
            "text/plain": [
              "Text(0,0.5,'Loss')"
            ]
          },
          "metadata": {
            "tags": []
          },
          "execution_count": 28
        },
        {
          "output_type": "display_data",
          "data": {
            "image/png": "[encoded data removed]",
            "text/plain": [
              "<matplotlib.figure.Figure at 0x23e828ed978>"
            ]
          },
          "metadata": {
            "tags": []
          }
        }
      ]
    },
    {
      "metadata": {
        "id": "g547irYY8nzo",
        "colab_type": "code",
        "colab": {},
        "outputId": "05298952-f514-498a-dbb0-608634984e78"
      },
      "cell_type": "code",
      "source": [
        "acc_values = history_dict['acc']\n",
        "val_acc_values = history_dict['val_acc']\n",
        "\n",
        "plt.plot(epochs, acc_values, 'bo')\n",
        "plt.plot(epochs, val_acc_values, 'b+')\n",
        "plt.xlabel('Epochs')\n",
        "plt.ylabel('Accuracy')\n",
        "\n",
        "plt.show()"
      ],
      "execution_count": 0,
      "outputs": [
        {
          "output_type": "display_data",
          "data": {
            "image/png": "[encoded data removed]",
            "text/plain": [
              "<matplotlib.figure.Figure at 0x23e829bb278>"
            ]
          },
          "metadata": {
            "tags": []
          }
        }
      ]
    },
    {
      "metadata": {
        "id": "t9I0VbtL8nzu",
        "colab_type": "text"
      },
      "cell_type": "markdown",
      "source": [
        "# Confusion matrix"
      ]
    },
    {
      "metadata": {
        "id": "cO-Ayyi18nzu",
        "colab_type": "code",
        "colab": {},
        "outputId": "34189d38-0094-4a4d-c018-8fa17adf8062"
      },
      "cell_type": "code",
      "source": [
        "from sklearn.metrics import confusion_matrix\n",
        "import itertools\n",
        "def plot_confusion_matrix(cm, classes,normalize=False,title='Confusion matrix',cmap=plt.cm.Blues):\n",
        "\n",
        "    plt.imshow(cm, interpolation='nearest', cmap=cmap)\n",
        "    plt.title(title)\n",
        "    plt.colorbar()\n",
        "    tick_marks = np.arange(len(classes))\n",
        "    plt.xticks(tick_marks, classes, rotation=45)\n",
        "    plt.yticks(tick_marks, classes)\n",
        "\n",
        "    if normalize:\n",
        "        cm = cm.astype('float') / cm.sum(axis=1)[:, np.newaxis]\n",
        "\n",
        "    thresh = cm.max() / 2.\n",
        "    for i, j in itertools.product(range(cm.shape[0]), range(cm.shape[1])):\n",
        "        plt.text(j, i, cm[i, j],\n",
        "                 horizontalalignment=\"center\",\n",
        "                 color=\"white\" if cm[i, j] > thresh else \"black\")\n",
        "\n",
        "    plt.tight_layout()\n",
        "    plt.ylabel('True label')\n",
        "    plt.xlabel('Predicted label')\n",
        "\n",
        "# Predict the values from the validation dataset\n",
        "Y_pred = model.predict(X_test)\n",
        "# Convert predictions classes to one hot vectors \n",
        "Y_pred_classes = np.argmax(Y_pred, axis = 1) \n",
        "# Convert validation observations to one hot vectors\n",
        "Y_true = np.argmax(Y_test, axis = 1) \n",
        "# compute the confusion matrix\n",
        "confusion_mtx = confusion_matrix(Y_true, Y_pred_classes) \n",
        "# plot the confusion matrix\n",
        "plot_confusion_matrix(confusion_mtx, classes = range(10))"
      ],
      "execution_count": 0,
      "outputs": [
        {
          "output_type": "display_data",
          "data": {
            "image/png": "[encoded data removed]",
            "text/plain": [
              "<matplotlib.figure.Figure at 0x23e85659b38>"
            ]
          },
          "metadata": {
            "tags": []
          }
        }
      ]
    },
    {
      "metadata": {
        "id": "JOUv0CQL8nz1",
        "colab_type": "text"
      },
      "cell_type": "markdown",
      "source": [
        "# Inspecting the output"
      ]
    },
    {
      "metadata": {
        "id": "vv6hvvFL8nz1",
        "colab_type": "code",
        "colab": {}
      },
      "cell_type": "code",
      "source": [
        "predicted = model_2.predict(X_test)\n",
        "predicted_classes = np.argmax(predicted,axis=1)\n",
        "correct_indices = np.nonzero(predicted_classes == y_test)[0]\n",
        "incorrect_indices = np.nonzero(predicted_classes != y_test)[0]"
      ],
      "execution_count": 0,
      "outputs": []
    },
    {
      "metadata": {
        "id": "eIFXDNBG8nz6",
        "colab_type": "code",
        "colab": {},
        "outputId": "7a2b6afa-94b3-4172-ca14-7a6fac412f33"
      },
      "cell_type": "code",
      "source": [
        "plt.rcParams['figure.figsize'] = (7,7) \n",
        "plt.figure()\n",
        "for i, correct in enumerate(correct_indices[:9]):\n",
        "    plt.subplot(3,3,i+1)\n",
        "    plt.imshow(X_test[correct].reshape(28,28), cmap='gray', interpolation='none')\n",
        "    plt.title(\"Predicted {}, Class {}\".format(predicted_classes[correct], y_test[correct]))\n",
        "    \n",
        "plt.figure()\n",
        "for i, incorrect in enumerate(incorrect_indices[:9]):\n",
        "    plt.subplot(3,3,i+1)\n",
        "    plt.imshow(X_test[incorrect].reshape(28,28), cmap='gray', interpolation='none')\n",
        "    plt.title(\"Predicted {}, Class {}\".format(predicted_classes[incorrect], y_test[incorrect]))"
      ],
      "execution_count": 0,
      "outputs": [
        {
          "output_type": "display_data",
          "data": {
            "image/png": "[encoded data removed]",
            "text/plain": [
              "<matplotlib.figure.Figure at 0x23e82a1b208>"
            ]
          },
          "metadata": {
            "tags": []
          }
        },
        {
          "output_type": "display_data",
          "data": {
            "image/png": "[encoded data removed]",
            "text/plain": [
              "<matplotlib.figure.Figure at 0x23efe3455c0>"
            ]
          },
          "metadata": {
            "tags": []
          }
        }
      ]
    },
    {
      "metadata": {
        "id": "LXZ3zxiu8n0B",
        "colab_type": "text"
      },
      "cell_type": "markdown",
      "source": [
        "# Feature Visualization"
      ]
    },
    {
      "metadata": {
        "id": "k6vwp1pZ8n0C",
        "colab_type": "code",
        "colab": {}
      },
      "cell_type": "code",
      "source": [
        "input_tensor = Input(shape = (28,28,1))\n",
        "conv1 = Conv2D(32, kernel_size=3,activation = 'relu')(input_tensor)\n",
        "conv2 = Conv2D(32, kernel_size=3,activation = 'relu')(conv1)\n",
        "pool1 = MaxPooling2D(pool_size=(2,2))(conv1)\n",
        "conv3 = Conv2D(64, kernel_size=3,activation = 'relu')(pool1)\n",
        "conv4 = Conv2D(64, kernel_size=3,activation = 'relu')(conv3)\n",
        "pool2 = MaxPooling2D(pool_size=(2,2))(conv4)\n",
        "\n",
        "flatten_layer = Flatten()(pool2)\n",
        "\n",
        "hidden_layer = Dense(512 , activation = 'relu')(flatten_layer)\n",
        "drop_layer = Dropout(0.2)(hidden_layer)\n",
        "pred = Dense(10, activation = 'softmax')(drop_layer)\n",
        "model = Model(inputs = input_tensor, outputs = pred)\n",
        "model.compile(loss='categorical_crossentropy', optimizer='adam',\n",
        "              metrics=['accuracy'])"
      ],
      "execution_count": 0,
      "outputs": []
    },
    {
      "metadata": {
        "id": "EtYrstvP8n0F",
        "colab_type": "code",
        "colab": {},
        "outputId": "a5af4712-c694-4f04-91bf-2ae950e0104d"
      },
      "cell_type": "code",
      "source": [
        "test = X_train[154]\n",
        "plt.imshow(test.reshape(28,28), cmap='gray', interpolation='none')"
      ],
      "execution_count": 0,
      "outputs": [
        {
          "output_type": "execute_result",
          "data": {
            "text/plain": [
              "<matplotlib.image.AxesImage at 0x23e866eb358>"
            ]
          },
          "metadata": {
            "tags": []
          },
          "execution_count": 34
        },
        {
          "output_type": "display_data",
          "data": {
            "image/png": "[encoded data removed]",
            "text/plain": [
              "<matplotlib.figure.Figure at 0x23e82a27780>"
            ]
          },
          "metadata": {
            "tags": []
          }
        }
      ]
    },
    {
      "metadata": {
        "id": "aG2Ty10v8n0P",
        "colab_type": "code",
        "colab": {},
        "outputId": "0c0c16f9-255f-493f-c15b-21c5be64bdd2"
      },
      "cell_type": "code",
      "source": [
        "from keras import models\n",
        "layer_outputs = [layer.output for layer in model.layers[:8]]\n",
        "activation_model = models.Model(input=model.input, output=layer_outputs)\n",
        "activations = activation_model.predict(test.reshape(1,28,28,1))"
      ],
      "execution_count": 0,
      "outputs": [
        {
          "output_type": "stream",
          "text": [
            "C:\\Users\\fifamd\\Anaconda3\\envs\\tf\\lib\\site-packages\\ipykernel_launcher.py:3: UserWarning: Update your `Model` call to the Keras 2 API: `Model(inputs=Tensor(\"in..., outputs=[<tf.Tenso...)`\n",
            "  This is separate from the ipykernel package so we can avoid doing imports until\n"
          ],
          "name": "stderr"
        }
      ]
    },
    {
      "metadata": {
        "id": "74FKnyf28n0S",
        "colab_type": "code",
        "colab": {},
        "outputId": "1bbfb8a3-5751-421d-d608-18e6432e56ee"
      },
      "cell_type": "code",
      "source": [
        "model.layers[:-1]"
      ],
      "execution_count": 0,
      "outputs": [
        {
          "output_type": "execute_result",
          "data": {
            "text/plain": [
              "[<keras.engine.topology.InputLayer at 0x23e86468b38>,\n",
              " <keras.layers.convolutional.Conv2D at 0x23e86468c50>,\n",
              " <keras.layers.pooling.MaxPooling2D at 0x23e86356b70>,\n",
              " <keras.layers.convolutional.Conv2D at 0x23e86468cc0>,\n",
              " <keras.layers.convolutional.Conv2D at 0x23e864b7e80>,\n",
              " <keras.layers.pooling.MaxPooling2D at 0x23e864ab780>,\n",
              " <keras.layers.core.Flatten at 0x23e864e0d68>,\n",
              " <keras.layers.core.Dense at 0x23e86524630>,\n",
              " <keras.layers.core.Dropout at 0x23e86541588>]"
            ]
          },
          "metadata": {
            "tags": []
          },
          "execution_count": 36
        }
      ]
    },
    {
      "metadata": {
        "id": "z2fp5qHT8n0W",
        "colab_type": "text"
      },
      "cell_type": "markdown",
      "source": [
        "# Visualization Conv2D"
      ]
    },
    {
      "metadata": {
        "id": "B96DEpdK8n0X",
        "colab_type": "code",
        "colab": {},
        "outputId": "8aa610c3-223a-46cc-8d05-b2ebc5bbeec0"
      },
      "cell_type": "code",
      "source": [
        "layer_names = []\n",
        "for layer in model.layers[:-1]:\n",
        "    layer_names.append(layer.name) \n",
        "images_per_row = 16\n",
        "for layer_name, layer_activation in zip(layer_names, activations):\n",
        "    if layer_name.startswith('conv'):\n",
        "        n_features = layer_activation.shape[-1]\n",
        "        size = layer_activation.shape[1]\n",
        "        n_cols = n_features // images_per_row\n",
        "        display_grid = np.zeros((size * n_cols, images_per_row * size))\n",
        "        for col in range(n_cols):\n",
        "            for row in range(images_per_row):\n",
        "                channel_image = layer_activation[0,:, :, col * images_per_row + row]\n",
        "                channel_image -= channel_image.mean()\n",
        "                channel_image /= channel_image.std()\n",
        "                channel_image *= 64\n",
        "                channel_image += 128\n",
        "                channel_image = np.clip(channel_image, 0, 255).astype('uint8')\n",
        "                display_grid[col * size : (col + 1) * size,\n",
        "                             row * size : (row + 1) * size] = channel_image\n",
        "        scale = 1. / size\n",
        "        plt.figure(figsize=(scale * display_grid.shape[1],\n",
        "                            scale * display_grid.shape[0]))\n",
        "        plt.title(layer_name)\n",
        "        plt.grid(False)\n",
        "        plt.imshow(display_grid, aspect='auto', cmap='gray')"
      ],
      "execution_count": 0,
      "outputs": [
        {
          "output_type": "display_data",
          "data": {
            "image/png": "[encoded data removed]",
            "text/plain": [
              "<matplotlib.figure.Figure at 0x23e8771bf98>"
            ]
          },
          "metadata": {
            "tags": []
          }
        },
        {
          "output_type": "display_data",
          "data": {
            "image/png": "[encoded data removed]",
            "text/plain": [
              "<matplotlib.figure.Figure at 0x23e8781a860>"
            ]
          },
          "metadata": {
            "tags": []
          }
        },
        {
          "output_type": "display_data",
          "data": {
            "image/png": "[encoded data removed]",
            "text/plain": [
              "<matplotlib.figure.Figure at 0x23e8775c2b0>"
            ]
          },
          "metadata": {
            "tags": []
          }
        }
      ]
    },
    {
      "metadata": {
        "id": "KR8ba_Jw8n0d",
        "colab_type": "text"
      },
      "cell_type": "markdown",
      "source": [
        "# Visualization Max pooling2D"
      ]
    },
    {
      "metadata": {
        "id": "UU5fD2Hz8n0e",
        "colab_type": "code",
        "colab": {},
        "outputId": "6c0e3836-8e14-4a39-9387-5024a8e56f6d"
      },
      "cell_type": "code",
      "source": [
        "layer_names = []\n",
        "for layer in model.layers[:-1]:\n",
        "    layer_names.append(layer.name) \n",
        "images_per_row = 16\n",
        "for layer_name, layer_activation in zip(layer_names, activations):\n",
        "    if layer_name.startswith('max'):\n",
        "        n_features = layer_activation.shape[-1]\n",
        "        size = layer_activation.shape[1]\n",
        "        n_cols = n_features // images_per_row\n",
        "        display_grid = np.zeros((size * n_cols, images_per_row * size))\n",
        "        for col in range(n_cols):\n",
        "            for row in range(images_per_row):\n",
        "                channel_image = layer_activation[0,:, :, col * images_per_row + row]\n",
        "                channel_image -= channel_image.mean()\n",
        "                channel_image /= channel_image.std()\n",
        "                channel_image *= 64\n",
        "                channel_image += 128\n",
        "                channel_image = np.clip(channel_image, 0, 255).astype('uint8')\n",
        "                display_grid[col * size : (col + 1) * size,\n",
        "                             row * size : (row + 1) * size] = channel_image\n",
        "        scale = 1. / size\n",
        "        plt.figure(figsize=(scale * display_grid.shape[1],\n",
        "                            scale * display_grid.shape[0]))\n",
        "        plt.title(layer_name)\n",
        "        plt.grid(False)\n",
        "        plt.imshow(display_grid, aspect='auto', cmap='gray')"
      ],
      "execution_count": 0,
      "outputs": [
        {
          "output_type": "stream",
          "text": [
            "C:\\Users\\fifamd\\Anaconda3\\envs\\tf\\lib\\site-packages\\ipykernel_launcher.py:15: RuntimeWarning: invalid value encountered in true_divide\n",
            "  from ipykernel import kernelapp as app\n"
          ],
          "name": "stderr"
        },
        {
          "output_type": "display_data",
          "data": {
            "image/png": "[encoded data removed]",
            "text/plain": [
              "<matplotlib.figure.Figure at 0x23e866dd978>"
            ]
          },
          "metadata": {
            "tags": []
          }
        },
        {
          "output_type": "display_data",
          "data": {
            "image/png": "[encoded data removed]",
            "text/plain": [
              "<matplotlib.figure.Figure at 0x23e8641c7f0>"
            ]
          },
          "metadata": {
            "tags": []
          }
        }
      ]
    }
  ]
}