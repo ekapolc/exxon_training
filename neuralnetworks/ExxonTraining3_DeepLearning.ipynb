{
  "nbformat": 4,
  "nbformat_minor": 0,
  "metadata": {
    "colab": {
      "name": "ExxonTraining3_DeepLearning.ipynb",
      "version": "0.3.2",
      "provenance": [],
      "collapsed_sections": [],
      "toc_visible": true,
      "include_colab_link": true
    },
    "language_info": {
      "codemirror_mode": {
        "name": "ipython",
        "version": 3
      },
      "file_extension": ".py",
      "mimetype": "text/x-python",
      "name": "python",
      "nbconvert_exporter": "python",
      "pygments_lexer": "ipython3",
      "version": "3.6.8"
    },
    "kernelspec": {
      "name": "python3",
      "display_name": "Python 3"
    },
    "accelerator": "GPU"
  },
  "cells": [
    {
      "cell_type": "markdown",
      "metadata": {
        "id": "view-in-github",
        "colab_type": "text"
      },
      "source": [
        "<a href=\"https://colab.research.google.com/github/ekapolc/exxon_training/blob/master/neuralnetworks/ExxonTraining3_DeepLearning.ipynb\" target=\"_parent\"><img src=\"https://colab.research.google.com/assets/colab-badge.svg\" alt=\"Open In Colab\"/></a>"
      ]
    },
    {
      "cell_type": "markdown",
      "metadata": {
        "id": "sYJBOL5TlwU8",
        "colab_type": "text"
      },
      "source": [
        "## Word Tokenizer exercise##\n",
        "\n",
        "In this exercise, you are going to build a set of deep learning models on a (sort of) real world task using Tensorflow and Keras. Tensorflow is a deep learning framework developed by Google, and Keras is a frontend library built on top of Tensorflow (or Theano, CNTK) to provide an easier way to use standard layers and networks.\n",
        "\n",
        "To complete this exercise, you will need to build deep learning models for word tokenization in Thai (แบ่งเว้นวรรคภาษาไทย) using NECTEC's BEST corpus. You will build one model for each of the following type:\n",
        "- Fully Connected (Feedforward) Neural Network\n",
        "- One-Dimentional Convolution Neural Network (1D-CNN)\n",
        "- Recurrent Neural Network with Gated Recurrent Unit (GRU)\n",
        "\n",
        "and one more model of your choice to achieve the highest score possible.\n",
        "\n",
        "We provide the code for data cleaning and some starter code for keras in this notebook but feel free to modify those parts to suit your needs. You can also complete this exercise using only Tensorflow (without using Keras). Feel free to use additional libraries (e.g. scikit-learn) as long as you have a model for each type mentioned above.\n"
      ]
    },
    {
      "cell_type": "code",
      "metadata": {
        "id": "-muaZkTTu6Rp",
        "colab_type": "code",
        "colab": {}
      },
      "source": [
        "# install tensorflow2 \n",
        "!pip install -q tensorflow-gpu==2.0.0-beta1\n",
        "!pip install googledrivedownloader\n",
        "%load_ext tensorboard\n",
        "\n",
        "# Check GPU status\n",
        "import tensorflow as tf\n",
        "print(\"GPU Available: \", tf.test.is_gpu_available())\n",
        "\n",
        "# Download Data\n",
        "from google_drive_downloader import GoogleDriveDownloader as gdd\n",
        "gdd.download_file_from_google_drive(file_id='11exioLhTUOkhlSuFkwSIa-KyYlEsD6Qi',\n",
        "                                    dest_path='./corpora.tar.gz',\n",
        "                                    unzip=False)"
      ],
      "execution_count": 0,
      "outputs": []
    },
    {
      "cell_type": "code",
      "metadata": {
        "id": "gh4vP7CplwU-",
        "colab_type": "code",
        "colab": {}
      },
      "source": [
        "# Run setup code\n",
        "import os\n",
        "import numpy as np\n",
        "import pandas as pd\n",
        "import matplotlib.pyplot as plt\n",
        "%matplotlib inline"
      ],
      "execution_count": 0,
      "outputs": []
    },
    {
      "cell_type": "code",
      "metadata": {
        "id": "H6MhxMyOnuGU",
        "colab_type": "code",
        "colab": {}
      },
      "source": [
        "!tar -xvzf corpora.tar.gz"
      ],
      "execution_count": 0,
      "outputs": []
    },
    {
      "cell_type": "markdown",
      "metadata": {
        "id": "NJW6Ckv1lwVE",
        "colab_type": "text"
      },
      "source": [
        "For simplicity, we are going to build a word tokenization model which is a binary classification model trying to predict whether a character is the begining of the word or not (if it is, then there is a space in front of it) and without using any knowledge about type of character (vowel, number, English character etc.).\n",
        "\n",
        "For example,\n",
        "\n",
        "'แมวดำน่ารักมาก' -> 'แมว ดำ น่า รัก มาก'\n",
        "\n",
        "will have these true labels:\n",
        "\n",
        "[(แ,1), (ม,0), (ว,0) (ด,1), ( ำ,0), (น,1), (-่,0), (า,0), (ร,1), (-ั,0), (ก,0), (ม,1), (า,0), (ก,0)]\n",
        "\n",
        "In this task, we will use only main character you are trying to predict  and the characters that surround it (the context) as features. However, you can imagine that a more complex model will try to include more knowledge about each character into the model. You can do that too if you feel like it."
      ]
    },
    {
      "cell_type": "code",
      "metadata": {
        "id": "NXRj_2hwlwVF",
        "colab_type": "code",
        "colab": {}
      },
      "source": [
        "# Create a character map\n",
        "CHARS = [\n",
        "  '\\n', ' ', '!', '\"', '#', '$', '%', '&', \"'\", '(', ')', '*', '+',\n",
        "  ',', '-', '.', '/', '0', '1', '2', '3', '4', '5', '6', '7', '8',\n",
        "  '9', ':', ';', '<', '=', '>', '?', '@', 'A', 'B', 'C', 'D', 'E',\n",
        "  'F', 'G', 'H', 'I', 'J', 'K', 'L', 'M', 'N', 'O', 'P', 'Q', 'R',\n",
        "  'S', 'T', 'U', 'V', 'W', 'X', 'Y', 'Z', '[', '\\\\', ']', '^', '_',\n",
        "  'a', 'b', 'c', 'd', 'e', 'f', 'g', 'h', 'i', 'j', 'k', 'l', 'm',\n",
        "  'n', 'o', 'other', 'p', 'q', 'r', 's', 't', 'u', 'v', 'w', 'x', 'y',\n",
        "  'z', '}', '~', 'ก', 'ข', 'ฃ', 'ค', 'ฅ', 'ฆ', 'ง', 'จ', 'ฉ', 'ช',\n",
        "  'ซ', 'ฌ', 'ญ', 'ฎ', 'ฏ', 'ฐ', 'ฑ', 'ฒ', 'ณ', 'ด', 'ต', 'ถ', 'ท',\n",
        "  'ธ', 'น', 'บ', 'ป', 'ผ', 'ฝ', 'พ', 'ฟ', 'ภ', 'ม', 'ย', 'ร', 'ฤ',\n",
        "  'ล', 'ว', 'ศ', 'ษ', 'ส', 'ห', 'ฬ', 'อ', 'ฮ', 'ฯ', 'ะ', 'ั', 'า',\n",
        "  'ำ', 'ิ', 'ี', 'ึ', 'ื', 'ุ', 'ู', 'ฺ', 'เ', 'แ', 'โ', 'ใ', 'ไ',\n",
        "  'ๅ', 'ๆ', '็', '่', '้', '๊', '๋', '์', 'ํ', '๐', '๑', '๒', '๓',\n",
        "  '๔', '๕', '๖', '๗', '๘', '๙', '‘', '’', '\\ufeff'\n",
        "]\n",
        "CHARS_MAP = {v: k for k, v in enumerate(CHARS)}"
      ],
      "execution_count": 0,
      "outputs": []
    },
    {
      "cell_type": "code",
      "metadata": {
        "id": "EksoMl84lwVH",
        "colab_type": "code",
        "colab": {}
      },
      "source": [
        "def create_n_gram_df(df, n_pad):\n",
        "    \"\"\"\n",
        "    Given an input dataframe, create a feature dataframe of shifted characters\n",
        "    Input:\n",
        "    df: timeseries of size (N)\n",
        "    n_pad: the number of context. For a given character at position [idx],\n",
        "    character at position [idx-n_pad/2 : idx+n_pad/2] will be used \n",
        "    as features for that character.\n",
        "\n",
        "    Output:\n",
        "    dataframe of size (N * n_pad) which each row contains the character, \n",
        "    n_pad_2 characters to the left, and n_pad_2 characters to the right\n",
        "    of that character.\n",
        "    \"\"\"\n",
        "    n_pad_2 = int((n_pad - 1)/2)\n",
        "    for i in range(n_pad_2):\n",
        "        df['char-{}'.format(i+1)] = df['char'].shift(i + 1)\n",
        "        df['char{}'.format(i+1)] = df['char'].shift(-i - 1)\n",
        "    return df[n_pad_2: -n_pad_2]"
      ],
      "execution_count": 0,
      "outputs": []
    },
    {
      "cell_type": "code",
      "metadata": {
        "id": "F2ZqQXkxlwVK",
        "colab_type": "code",
        "colab": {}
      },
      "source": [
        "def prepare_feature(best_processed_path, option='train'):\n",
        "    \"\"\"\n",
        "    Transform the path to a directory containing processed files \n",
        "    into a feature matrix and output array\n",
        "    Input:\n",
        "    best_processed_path: str, path to a processed version of the BEST dataset\n",
        "    option: str, 'train' or 'test'\n",
        "    \"\"\"\n",
        "    # we use padding equals 21 here to consider 10 characters to the left\n",
        "    # and 10 characters to the right as features for the character in the middle\n",
        "    n_pad = 21\n",
        "    n_pad_2 = int((n_pad - 1)/2)\n",
        "    pad = [{'char': ' ', 'target': True}]\n",
        "    df_pad = pd.DataFrame(pad * n_pad_2)\n",
        "\n",
        "    df = []\n",
        "    # article types in BEST corpus\n",
        "    article_types = ['article', 'encyclopedia', 'news', 'novel']\n",
        "    for article_type in article_types:\n",
        "        df.append(pd.read_csv(os.path.join(best_processed_path, option, 'df_best_{}_{}.csv'.format(article_type, option))))\n",
        "\n",
        "    df = pd.concat(df)\n",
        "    # pad with empty string feature\n",
        "    df = pd.concat((df_pad, df, df_pad))\n",
        "\n",
        "    # map characters to numbers, use 'other' if not in the predefined character set.\n",
        "    df['char'] = df['char'].map(lambda x: CHARS_MAP.get(x, 80))\n",
        "\n",
        "    # Use nearby characters as features\n",
        "    df_with_context = create_n_gram_df(df, n_pad=n_pad)\n",
        "\n",
        "    char_row = ['char' + str(i + 1) for i in range(n_pad_2)] + \\\n",
        "             ['char-' + str(i + 1) for i in range(n_pad_2)] + ['char']\n",
        "\n",
        "    # convert pandas dataframe to numpy array to feed to the model\n",
        "    x_char = df_with_context[char_row].as_matrix()\n",
        "    y = df_with_context['target'].astype(int).as_matrix()\n",
        "\n",
        "    return x_char, y"
      ],
      "execution_count": 0,
      "outputs": []
    },
    {
      "cell_type": "markdown",
      "metadata": {
        "id": "a6xTVIgKlwVM",
        "colab_type": "text"
      },
      "source": [
        "Before running the following commands, we must inform you that our data is quite large and loading the whole dataset at once will **use a lot of memory (~6 GB after processing and up to ~12GB while processing)**. We expect you to be running this on Google Cloud so that you will not run into this problem. But, if, for any reason, you have to run this on your PC or machine with not enough memory, you might need to write a data generator to process a few entries at a time then feed it to the model while training.\n",
        "\n",
        "For keras, you can use [fit_generator](https://keras.io/getting-started/faq/#how-can-i-use-keras-with-datasets-that-dont-fit-in-memory) to cope with that."
      ]
    },
    {
      "cell_type": "code",
      "metadata": {
        "id": "8NrFbXlMlwVN",
        "colab_type": "code",
        "colab": {}
      },
      "source": [
        "# Path to the preprocessed data\n",
        "best_processed_path = 'corpora/BEST'"
      ],
      "execution_count": 0,
      "outputs": []
    },
    {
      "cell_type": "code",
      "metadata": {
        "id": "cArmkCIplwVQ",
        "colab_type": "code",
        "colab": {}
      },
      "source": [
        "# Load preprocessed BEST corpus\n",
        "x_train_char, y_train = prepare_feature(best_processed_path, option='train')\n",
        "x_val_char, y_val = prepare_feature(best_processed_path, option='val')\n",
        "x_test_char, y_test = prepare_feature(best_processed_path, option='test')\n",
        "\n",
        "# As a sanity check, we print out the size of the training, val, and test data.\n",
        "print('Training data shape: ', x_train_char.shape)\n",
        "print('Training data labels shape: ', y_train.shape)\n",
        "print('Validation data shape: ', x_val_char.shape)\n",
        "print('Validation data labels shape: ', y_val.shape)\n",
        "print('Test data shape: ', x_test_char.shape)\n",
        "print('Test data labels shape: ', y_test.shape)"
      ],
      "execution_count": 0,
      "outputs": []
    },
    {
      "cell_type": "code",
      "metadata": {
        "id": "Fph54yYFlwVV",
        "colab_type": "code",
        "colab": {}
      },
      "source": [
        "# Print some entry from the data to make sure it is the same as what you think.\n",
        "print('First 3 features: ', x_train_char[:3])\n",
        "print('First 30 class labels', y_train[:30])"
      ],
      "execution_count": 0,
      "outputs": []
    },
    {
      "cell_type": "code",
      "metadata": {
        "id": "LPCRPu_XlwVc",
        "colab_type": "code",
        "colab": {}
      },
      "source": [
        "#print char of feature 1\n",
        "char = np.array(CHARS)\n",
        "\n",
        "#A function for displaying our features in text\n",
        "def print_features(tfeature,label,index):\n",
        "    feature = np.array(tfeature[index],dtype=int).reshape(21,1)\n",
        "    #Convert to string\n",
        "    char_list = char[feature]\n",
        "    left = ''.join(reversed(char_list[10:20].reshape(10))).replace(\" \", \"\")\n",
        "    center = ''.join(char_list[20])\n",
        "    right =  ''.join(char_list[0:10].reshape(10)).replace(\" \", \"\")\n",
        "    word = ''.join([left,' ',center,' ',right])\n",
        "    print(center + ': ' + word + \"\\tpred = \"+str(label[index]))\n",
        "\n",
        "for ind in range(0,30):\n",
        "    print_features(x_train_char,y_train,ind)"
      ],
      "execution_count": 0,
      "outputs": []
    },
    {
      "cell_type": "markdown",
      "metadata": {
        "id": "tlLRhdYwlwVf",
        "colab_type": "text"
      },
      "source": [
        "\n",
        "Now, you are going to define the model to be used as your classifier. If you are using Keras, please follow the guideline we provide below. We encourage you to use the Keras Funtional API instead of the Sequential model as it is easier to create complex models (and to read your code). You can find more about Keras Functional API on Keras [documentation](https://keras.io/getting-started/functional-api-guide/).\n",
        "\n",
        "You need to create a function that return a model you want and write code that invoke _**model.fit**_ to train your model. For example, your function ***get_nn()*** might looks like this:\n",
        "\n",
        "```python\n",
        "def get_nn():\n",
        "  input1 = Input(...)\n",
        "  ...\n",
        "  # Create your wonderful model.\n",
        "  ...\n",
        "  out = ...\n",
        "  model = Model(inputs=input1, outputs=out)\n",
        "  model.compile(...)\n",
        "return model\n",
        "```\n",
        "\n",
        "Also, beware that complex model requires more time to train and your dataset is already quite large. We tested it with a simple 1-hidden-layered feedforward nueral network and it used ~10 mins to train 1 epoch. It got more than 95% accuracy on validation set after the first epoch, so you should aim for a model with accuracy around 96-98%."
      ]
    },
    {
      "cell_type": "markdown",
      "metadata": {
        "id": "I3MWjRCBlwVg",
        "colab_type": "text"
      },
      "source": [
        "### Three-Layer Feedforward Neural Networks\n",
        "\n",
        "Below, we provide you the code for creating a 3-layer fully connected neural network in keras. This will also serve as the baseline for your other models. Run the code below while making sure you understand what you are doing. Then, report the results.\n",
        "\n",
        "### Please read tensorboard first \n"
      ]
    },
    {
      "cell_type": "code",
      "metadata": {
        "id": "1FOrXO3xlwVg",
        "colab_type": "code",
        "colab": {}
      },
      "source": [
        "from tensorflow.keras.models import Model\n",
        "from tensorflow.keras.layers import Input, Dense\n",
        "from tensorflow.keras.optimizers import Adam\n",
        "\n",
        "def get_feedforward_nn():\n",
        "    input1 = Input(shape=(21,))\n",
        "    x = Dense(100, activation='relu')(input1)\n",
        "    x = Dense(100, activation='relu')(x)\n",
        "    x = Dense(100, activation='relu')(x)\n",
        "    out = Dense(1, activation='sigmoid')(x)\n",
        "\n",
        "    model = Model(inputs=input1, outputs=out)\n",
        "    model.compile(optimizer=Adam(),\n",
        "                loss='binary_crossentropy',\n",
        "                metrics=['acc'])\n",
        "    return model"
      ],
      "execution_count": 0,
      "outputs": []
    },
    {
      "cell_type": "code",
      "metadata": {
        "id": "IEWiH5LblwVk",
        "colab_type": "code",
        "colab": {}
      },
      "source": [
        "from tensorflow.keras.callbacks import ModelCheckpoint, TensorBoard\n",
        "\n",
        "# This is called to clear the original model session in order to use TensorBoard\n",
        "from tensorflow.keras import backend as K\n",
        "K.clear_session()\n",
        "\n",
        "# Path to save model parameters\n",
        "weight_path_feedforward_nn='./data/model_weight_feedforward_nn.h5'\n",
        "\n",
        "# Training callbacks list. TensorBoard() write logs for tensorboard GUI. \n",
        "# ModelCheckpoint() writes the resulting model.\n",
        "# Note that writing to disk takes time (longer than model training time). \n",
        "# For other sections, you might not writing any files to disk \n",
        "# or write only the graph for TensorBoard.\n",
        "callbacks_list_feedforward_nn = [\n",
        "        TensorBoard(log_dir='./data/Graph/ff', histogram_freq=1, write_graph=True, write_grads=True),\n",
        "        ModelCheckpoint(\n",
        "            weight_path_feedforward_nn,\n",
        "            save_best_only=True,\n",
        "            save_weights_only=True,\n",
        "            monitor='val_loss',\n",
        "            mode='min',\n",
        "            verbose=1\n",
        "        )\n",
        "  ]\n",
        "\n",
        "print('start training')\n",
        "verbose = 1\n",
        "model_feedforward_nn = get_feedforward_nn()\n",
        "train_params = [(3, 512)]\n",
        "for (epochs, batch_size) in train_params:\n",
        "    print(\"train with {} epochs and {} batch size\".format(epochs, batch_size))\n",
        "    history = model_feedforward_nn.fit(x_train_char, y_train, epochs=epochs, batch_size=batch_size, verbose=verbose,\n",
        "                           callbacks=callbacks_list_feedforward_nn,\n",
        "                           validation_data=(x_val_char, y_val))"
      ],
      "execution_count": 0,
      "outputs": []
    },
    {
      "cell_type": "code",
      "metadata": {
        "id": "C-juIutAxiHY",
        "colab_type": "code",
        "colab": {}
      },
      "source": [
        "plt.plot(history.history[\"loss\"], label=\"loss\")\n",
        "plt.plot(history.history[\"val_loss\"], label=\"val_loss\")\n",
        "plt.title(\"Loss\")\n",
        "plt.legend()\n",
        "plt.show()"
      ],
      "execution_count": 0,
      "outputs": []
    },
    {
      "cell_type": "code",
      "metadata": {
        "id": "WLf6NZkrlwVp",
        "colab_type": "code",
        "colab": {}
      },
      "source": [
        "################################################################################\n",
        "# In case you want to close the session, you can re-load the model by          #\n",
        "################################################################################\n",
        "weight_path_feedforward_nn='./data/model_weight_feedforward_nn.h5'\n",
        "model_feedforward_nn = get_feedforward_nn()\n",
        "model_feedforward_nn.load_weights(weight_path_feedforward_nn)\n",
        "model_feedforward_nn._make_predict_function()\n",
        "model_feedforward_nn.summary()"
      ],
      "execution_count": 0,
      "outputs": []
    },
    {
      "cell_type": "code",
      "metadata": {
        "id": "18mzQZuglwVx",
        "colab_type": "code",
        "colab": {}
      },
      "source": [
        "from sklearn.metrics import f1_score,precision_score,recall_score\n",
        "\n",
        "################################################################################\n",
        "# Write a function to evaluate your model. Your function must make prediction  #\n",
        "# using the input model and return f-score, precision, and recall of the model.#\n",
        "# You can make predictions by calling model.predict().                         #\n",
        "################################################################################\n",
        "\n",
        "def evaluate(x_test, y_test, model):\n",
        "    \"\"\"\n",
        "    Evaluate model on the splitted 10 percent testing set.\n",
        "    \"\"\"\n",
        "    y_pred = model.predict(x_test)\n",
        "\n",
        "    #map probability to class\n",
        "    prob_to_class = lambda p: 1 if p[0]>=0.5 else 0\n",
        "    y_pred = np.apply_along_axis(prob_to_class,1,y_pred)\n",
        "\n",
        "    f1score = f1_score(y_test,y_pred)\n",
        "    precision = precision_score(y_test,y_pred)\n",
        "    recall = recall_score(y_test,y_pred)\n",
        "    return f1score, precision, recall, y_pred"
      ],
      "execution_count": 0,
      "outputs": []
    },
    {
      "cell_type": "code",
      "metadata": {
        "id": "gD2JJYnGlwVz",
        "colab_type": "code",
        "colab": {}
      },
      "source": [
        "f1score, precision, recall, y_pred = evaluate(x_test_char, y_test, model_feedforward_nn)\n",
        "print(f1score, precision, recall)"
      ],
      "execution_count": 0,
      "outputs": []
    },
    {
      "cell_type": "markdown",
      "metadata": {
        "id": "jmfKhLKplwV4",
        "colab_type": "text"
      },
      "source": [
        "### Todo#1-Debugging\n",
        "\n",
        "In order to understand what is going on in your model and where the error is, you should try looking at the inputs your model made wrong predictions.\n",
        "\n",
        "In this task, write a function to print the characters on test data that got wrong prediction along with its context of size 10 (from [x-10] to [x+10]). Examine a fews of those and write your assumption on where the model got wrong prediction."
      ]
    },
    {
      "cell_type": "code",
      "metadata": {
        "id": "NdVG5z8HlwV4",
        "colab_type": "code",
        "colab": {}
      },
      "source": [
        "################################################################################\n",
        "#                            WRITE YOUR CODE BELOW                             #\n",
        "################################################################################\n",
        "\n",
        "# Write code to show a few of the errors the models made.\n"
      ],
      "execution_count": 0,
      "outputs": []
    },
    {
      "cell_type": "markdown",
      "metadata": {
        "id": "Z4s_7Aw4r0_D",
        "colab_type": "text"
      },
      "source": [
        "<details>\n",
        "    <summary>SOLUTION HERE!</summary>\n",
        "      <pre>\n",
        "        <code>\n",
        "tmp = 0\n",
        "for i in range(y_pred.shape[0]):\n",
        "    if(y_pred[i] != y_test[i]):\n",
        "        tmp+=1\n",
        "        print(\"[{}] pred = {} test = {}\".format(i,y_pred[i],y_test[i]))\n",
        "        print_features(x_test_char,y_test,i)\n",
        "    if(tmp  > 30):\n",
        "        break\n",
        "        </code>\n",
        "      </pre>\n",
        "</details>"
      ]
    },
    {
      "cell_type": "markdown",
      "metadata": {
        "id": "PgDVFfcClwV9",
        "colab_type": "text"
      },
      "source": [
        "### Todo#2 - Analyse Error\n",
        "\n",
        "\n",
        "#### Question : Why does model make wrong predictions?\n",
        "\n",
        "#### Answer : Many inputs that the model made wrong prediction are a composition word. The model thought it is a composite word but actually they can be classified as a new word. In some case the model missed the correct starting letter entirely."
      ]
    },
    {
      "cell_type": "markdown",
      "metadata": {
        "id": "f2h9SkpolwV9",
        "colab_type": "text"
      },
      "source": [
        "<a id='section_id'></a>\n",
        "# Tensorboard \n",
        "The code provided also have Tensorboard (a visualization tool that comes with Tensorflow). Note the part that calls it `TensorBoard(log_dir='./Graph/' + graph_name, histogram_freq=1, write_graph=True, write_grads=True)`. This tells Tensorflow to write extra outputs to the `log_dir` which can then be used for visualization.\n",
        "\n",
        "To start tensorboard do\n",
        "```\n",
        "tensorboard --logdir=/full_path_to_your_logs\n",
        "```\n",
        "from the commandline. This will launch tensorboard, you will be able to access it from a web browser by pointint the url to `<instance-ip>:6006`. You will need to enable additional firewall rules in Gcloud for this.\n",
        "\n",
        "In Tensorboard, you will be able to debug your computation graph which can be hard to keep track in code. This is might seem trivial in Keras, but it is very helpful for Tensorflow. You can see a visualization of the computation graph at the `GRAPH` tab. If you see multiple dense layers (more than 4), this is caused by running the code several times without deleting the log dir. Delete the log dir and re-run the code.\n",
        "\n",
        "Next, let's look at the scalars tab, we can see the loss and accuracy on the training and validation set as they change over each epoch. This can be useful to detect overfitting.\n",
        "\n",
        "Another useful tab is the histograms tab (Enable by setting 'write_grads=True'). This plot histograms of the weights, biases, and outputs of each layer. The depth of the histograms show the change over epochs. We can see how the histograms of weights change over the training peroid. This can be used to debug vanishing gradients or getting stuck in local minimas.\n",
        "\n",
        "There are other useful tabs in Tensorboard, you can read about them in the Keras [documentation](https://keras.io/callbacks/#tensorboard) for tensorboard."
      ]
    },
    {
      "cell_type": "code",
      "metadata": {
        "id": "G1ibD9MH_7mg",
        "colab_type": "code",
        "colab": {}
      },
      "source": [
        "## Run this cell first\n",
        "%tensorboard --logdir=./data/"
      ],
      "execution_count": 0,
      "outputs": []
    },
    {
      "cell_type": "markdown",
      "metadata": {
        "id": "rRuJftxolwV_",
        "colab_type": "text"
      },
      "source": [
        "# Tensorboard observation\n",
        "\n",
        "Write your own interpretation of the logs from this example. A simple sentence or two for each tab is sufficient.\n",
        "\n",
        "**Your answer**: TODO#3\n",
        "\n",
        "*Graph tab* : Show architecture of model and dimension of each layers. In this example, We correctly create model.\n",
        "\n",
        "*Distribution tab* : In each layer, gradient value is closely 0. \n",
        "\n",
        "*Histogram tab* : Same as above. \n"
      ]
    },
    {
      "cell_type": "markdown",
      "metadata": {
        "id": "43QSvzgSlwWC",
        "colab_type": "text"
      },
      "source": [
        "### Todo#3 - Dropout\n",
        "\n",
        "You might notice that the 3-layered feedforward does not use dropout at all. Now, try adding dropout to the model, run, and report the result again."
      ]
    },
    {
      "cell_type": "code",
      "metadata": {
        "id": "RsRS_b6JlwWE",
        "colab_type": "code",
        "colab": {}
      },
      "source": [
        "################################################################################\n",
        "#                            WRITE YOUR CODE BELOW                             #\n",
        "################################################################################\n",
        "\n",
        "# Write a function that return feedforward model with dropout\n",
        "from tensorflow.keras.layers import Dropout\n",
        "def get_nn_with_dropout():\n",
        "    ### Write model\n",
        "  \n",
        "  \n",
        "    return model"
      ],
      "execution_count": 0,
      "outputs": []
    },
    {
      "cell_type": "markdown",
      "metadata": {
        "id": "Y3mrL7c_s8Kb",
        "colab_type": "text"
      },
      "source": [
        "<details>\n",
        "    <summary>SOLUTION HERE!</summary>\n",
        "      <pre>\n",
        "        <code>\n",
        "  input1 = Input(shape=(21,))\n",
        "  x = Dropout(0.2)(input1)\n",
        "  x = Dense(100, activation='relu')(x)\n",
        "  x = Dense(100, activation='relu')(x)\n",
        "  x = Dense(100, activation='relu')(x)\n",
        "  out = Dense(1, activation='sigmoid')(x)\n",
        "\n",
        "  model = Model(inputs=input1, outputs=out)\n",
        "  model.compile(optimizer=Adam(),\n",
        "              loss='binary_crossentropy',\n",
        "              metrics=['acc'])\n",
        "        </code>\n",
        "      </pre>\n",
        "</details>"
      ]
    },
    {
      "cell_type": "code",
      "metadata": {
        "id": "8FSMtXnHlwWJ",
        "colab_type": "code",
        "colab": {}
      },
      "source": [
        "# Train your model\n",
        "print('start training')\n",
        "verbose = 1\n",
        "model_nn_with_dropout = get_nn_with_dropout()\n",
        "\n",
        "# Complete the code to train your model with dropout. Don't forget to set epochs, batch_size, and validation_data\n",
        "################################################################################\n",
        "#                            WRITE YOUR CODE BELOW                             #\n",
        "################################################################################\n",
        "train_params = [(3, 512)]\n",
        "for (epochs, batch_size) in train_params:\n",
        "    print(\"train with {} epochs and {} batch size\".format(epochs, batch_size))\n",
        "    ### Fit model\n",
        "    \n",
        "    "
      ],
      "execution_count": 0,
      "outputs": []
    },
    {
      "cell_type": "markdown",
      "metadata": {
        "id": "sy_DSSxktauG",
        "colab_type": "text"
      },
      "source": [
        "<details>\n",
        "    <summary>SOLUTION HERE!</summary>\n",
        "      <pre>\n",
        "        <code>\n",
        "history = model_nn_with_dropout.fit(x_train_char, y_train, epochs=epochs, batch_size=batch_size, verbose=verbose,        \n",
        "        callbacks=None,  validation_data=(x_val_char, y_val))\n",
        "        </code>\n",
        "      </pre>\n",
        "</details>"
      ]
    },
    {
      "cell_type": "code",
      "metadata": {
        "id": "Hd_LkoKklwWP",
        "colab_type": "code",
        "colab": {}
      },
      "source": [
        "f1score, precision, recall, y_pred = evaluate(x_test_char, y_test, model_nn_with_dropout)\n",
        "print(f1score, precision, recall)"
      ],
      "execution_count": 0,
      "outputs": []
    },
    {
      "cell_type": "markdown",
      "metadata": {
        "id": "Rg0q8IKplwWS",
        "colab_type": "text"
      },
      "source": [
        "### Todo#4 - Convolution Neural Networks\n",
        "\n",
        "Now, you are going to implement you own 1d-convolution neural networks with the following structure:\n",
        "input -> embedding layer (size 32) -> 1D-convolution layer (100 filters of size 5, strides of 1) -> TimeDistributed (Dense size 5) -> fully-connected layer (size 100) -> output.\n",
        "\n",
        "These parameters are simple guidelines to save your time. You can play with them in the final section.\n",
        "\n",
        "The results should be better than the feedforward model.\n",
        "\n",
        "Embedding layers turn the input from a one-hot vector into better representations via some feature transform (a simple matrix multiply in this case). TimeDistributed is Keras' way of specifying that the layer of the network should be distributed along time (the first dimension) as shown in the picture below.\n",
        "\n",
        "<img src=\"https://raw.githubusercontent.com/ekapolc/nlp_course/master/HW1/images/configuration.png\">\n",
        "\n",
        "Note you need to flatten() before the final fully connected layer because of dimension mis-match.\n",
        "\n",
        "Do consult keras documentation on how to use [embedding layers](https://keras.io/layers/embeddings/) and [1D-cnn](https://keras.io/layers/convolutional/).\n"
      ]
    },
    {
      "cell_type": "code",
      "metadata": {
        "id": "rFYdmHiglwWb",
        "colab_type": "code",
        "colab": {}
      },
      "source": [
        "################################################################################\n",
        "# Write a function that returns keras convolution nueral network model.        #\n",
        "# You can choose any normalization methods, activation function, as well as    #\n",
        "# any hyperparameter the way you want. Your goal is to predict a score         #\n",
        "# between [0,1] for each input whether it is the beginning of the word or not. #\n",
        "#                                                                              #\n",
        "# Hint: You should read keras documentation to see the list of available       #\n",
        "# layers and options you can use.                                              #\n",
        "################################################################################\n",
        "from tensorflow.keras.layers import Embedding, Conv1D, TimeDistributed, Flatten\n",
        "\n",
        "def get_conv1d_nn():\n",
        "  \n",
        "    emb_size = 32\n",
        "    filters = 100\n",
        "    kernel_size = 5\n",
        "    strides = 1\n",
        "    fully_connected_layer = 100\n",
        "    \n",
        "    ### Write Model\n",
        "\n",
        "    return model"
      ],
      "execution_count": 0,
      "outputs": []
    },
    {
      "cell_type": "markdown",
      "metadata": {
        "id": "dlBVQ3ehuBab",
        "colab_type": "text"
      },
      "source": [
        "<details>\n",
        "    <summary>SOLUTION HERE!</summary>\n",
        "      <pre>\n",
        "        <code>\n",
        "emb_size = 32\n",
        "filters = 100\n",
        "kernel_size = 5\n",
        "strides = 1\n",
        "fully_connected_layer = 100\n",
        "\n",
        "input1 = Input(shape=(21,))\n",
        "x = Embedding(char.shape[0],emb_size,input_length=21)(input1)\n",
        "x = Conv1D(filters,\n",
        "            kernel_size,\n",
        "            padding='same',\n",
        "            activation='relu',\n",
        "            strides=strides)(x)\n",
        "x = TimeDistributed(Dense(5), input_shape = (21,100))(x)\n",
        "x = Flatten()(x)\n",
        "x = Dense(100, activation='relu')(x)\n",
        "out = Dense(1, activation='sigmoid')(x)\n",
        "\n",
        "model = Model(inputs=input1, outputs=out)\n",
        "model.compile(optimizer=Adam(),\n",
        "            loss='binary_crossentropy',\n",
        "            metrics=['acc'])\n",
        "        </code>\n",
        "      </pre>\n",
        "</details>"
      ]
    },
    {
      "cell_type": "code",
      "metadata": {
        "id": "WOvsFvE8lwWf",
        "colab_type": "code",
        "colab": {}
      },
      "source": [
        "################################################################################\n",
        "# Write code that call model.fit, or model.fit_generator if you have data      #\n",
        "# generator, to train you models. Make sure you have validation_data as an     # \n",
        "# argument and use verbose=2 to generate one log line per epoch. Select your   #\n",
        "# batch size carefully as it will affect your model's ability to converge and  #\n",
        "# time needed for one epoch.                                                   #\n",
        "################################################################################\n",
        "# K.clear_session()\n",
        "\n",
        "print('start training conv1d')\n",
        "model_conv1d_nn = get_conv1d_nn()\n",
        "print(model_conv1d_nn.summary())\n",
        "################################################################################\n",
        "#                            WRITE YOUR CODE BELOW                             #\n",
        "################################################################################\n",
        "# weight_path_conv1d='./data/model_weight_conv1d.h5'\n",
        "\n",
        "callbacks_list_conv1d = [\n",
        "        TensorBoard(log_dir='./data/Graph/conv1d', histogram_freq=1, write_graph=True, write_grads=False),\n",
        "        ModelCheckpoint(\n",
        "            weight_path_conv1d,\n",
        "            save_best_only=True,\n",
        "            save_weights_only=True,\n",
        "            monitor='val_loss',\n",
        "            mode='min',\n",
        "            verbose=1\n",
        "        )\n",
        "  ]\n",
        "\n",
        "train_params = [(3, 512)]\n",
        "verbose = 1\n",
        "for (epochs, batch_size) in train_params:\n",
        "    print(\"train with {} epochs and {} batch size\".format(epochs, batch_size))\n",
        "    ### Fit model\n",
        "    "
      ],
      "execution_count": 0,
      "outputs": []
    },
    {
      "cell_type": "markdown",
      "metadata": {
        "id": "2W9PEVoLCrcw",
        "colab_type": "text"
      },
      "source": [
        "<details>\n",
        "    <summary>SOLUTION HERE!</summary>\n",
        "      <pre>\n",
        "        <code>\n",
        " history = model_conv1d_nn.fit(x_train_char, y_train, epochs=epochs, batch_size=batch_size, verbose=verbose,\n",
        "                            callbacks=None,\n",
        "                            validation_data=(x_val_char, y_val))\n",
        "        </code>\n",
        "      </pre>\n",
        "</details>"
      ]
    },
    {
      "cell_type": "code",
      "metadata": {
        "id": "kMHyV34ilwWj",
        "colab_type": "code",
        "colab": {}
      },
      "source": [
        "f1score, precision, recall, y_pred = evaluate(x_test_char, y_test, model_conv1d_nn)\n",
        "print(f1score, precision, recall)"
      ],
      "execution_count": 0,
      "outputs": []
    },
    {
      "cell_type": "markdown",
      "metadata": {
        "id": "Q4q2Dt_AlwWs",
        "colab_type": "text"
      },
      "source": [
        "### Todo#5 - GRU\n",
        "\n",
        "Implement your GRU model with the following structure: input -> embedding layer (size 32) -> GRU layer (size 32) -> fully-connected layer (size 100) -> output.\n",
        "\n",
        "\n",
        "These parameters are simple guidelines to save your time. You can play with them in the final section.\n",
        "\n",
        "The result should be better than the feedforward model and at least on par with your CNN model.\n",
        "\n",
        "Do consult keras documentation on how to use [embedding layers](https://keras.io/layers/embeddings/) and [GRUs](https://keras.io/layers/recurrent/).\n"
      ]
    },
    {
      "cell_type": "code",
      "metadata": {
        "id": "TZ9lF-lZlwWz",
        "colab_type": "code",
        "colab": {}
      },
      "source": [
        "################################################################################\n",
        "# Write a function that returns keras GRU network moded. You can choose any    #\n",
        "# normalization methods, activation function, as well as any hyperparameter    #\n",
        "# the way you want. Your goal is to predict a score between [0,1] for each     #\n",
        "# input whether it is the beginning of the word or not.                        #\n",
        "#                                                                              #\n",
        "# Hint: You should read keras documentation to see the list of available       #\n",
        "# layers and options you can use.                                              #\n",
        "################################################################################\n",
        "from tensorflow.keras.layers import GRU,Reshape\n",
        "\n",
        "def get_gru():\n",
        "    ### Write model\n",
        "    \n",
        "    \n",
        "    return model"
      ],
      "execution_count": 0,
      "outputs": []
    },
    {
      "cell_type": "markdown",
      "metadata": {
        "id": "qs9q0Hh6C0ND",
        "colab_type": "text"
      },
      "source": [
        "<details>\n",
        "    <summary>SOLUTION HERE!</summary>\n",
        "      <pre>\n",
        "        <code>\n",
        "input1 = Input(shape=(21,))\n",
        "x = Embedding(char.shape[0],32,input_length=21)(input1)\n",
        "x = GRU(32, activation=\"relu\")(x)\n",
        "x = Dense(100, activation='relu')(x)\n",
        "out = Dense(1, activation='sigmoid')(x)\n",
        "\n",
        "model = Model(inputs=input1, outputs=out)\n",
        "model.compile(optimizer=Adam(),\n",
        "            loss='binary_crossentropy',\n",
        "            metrics=['acc'])\n",
        "        </code>\n",
        "      </pre>\n",
        "</details>"
      ]
    },
    {
      "cell_type": "code",
      "metadata": {
        "id": "TX-GzaYKlwW3",
        "colab_type": "code",
        "colab": {}
      },
      "source": [
        "################################################################################\n",
        "# Write code that call model.fit, or model.fit_generator if you have data      #\n",
        "# generator, to train you models. Make sure you have validation_data as an     # \n",
        "# argument and use verbose=2 to generate one log line per epoch. Select your   #\n",
        "# batch size carefully as it will affect your model's ability to converge and  #\n",
        "# time needed for one epoch.                                                   #\n",
        "################################################################################\n",
        "\n",
        "K.clear_session()\n",
        "model_gru_nn = get_gru()\n",
        "\n",
        "print(model_gru_nn.summary())\n",
        "################################################################################\n",
        "#                            WRITE YOUR CODE BELOW                             #\n",
        "################################################################################\n",
        "weight_path_gru='./data/model_weight_gru.h5'\n",
        "\n",
        "callbacks_list_gru = [\n",
        "        TensorBoard(log_dir='./data/Graph/gru', histogram_freq=1, write_graph=True, write_grads=False),\n",
        "        ModelCheckpoint(\n",
        "            weight_path_gru,\n",
        "            save_best_only=True,\n",
        "            save_weights_only=True,\n",
        "            monitor='val_loss',\n",
        "            mode='min',\n",
        "            verbose=1\n",
        "        )\n",
        "  ]\n",
        "\n",
        "train_params = [(3, 2048)]\n",
        "verbose = 1\n",
        "for (epochs, batch_size) in train_params:\n",
        "    print(\"train with {} epochs and {} batch size\".format(epochs, batch_size))\n",
        "    ### Fit model\n",
        "    \n",
        "    "
      ],
      "execution_count": 0,
      "outputs": []
    },
    {
      "cell_type": "markdown",
      "metadata": {
        "id": "m3l7viYyC72N",
        "colab_type": "text"
      },
      "source": [
        "<details>\n",
        "    <summary>SOLUTION HERE!</summary>\n",
        "      <pre>\n",
        "        <code>\n",
        "history = model_gru_nn.fit(x_train_char, y_train, epochs=epochs, batch_size=batch_size, verbose=verbose,\n",
        "                            callbacks=None,\n",
        "                            validation_data=(x_val_char, y_val))\n",
        "        </code>\n",
        "      </pre>\n",
        "</details>"
      ]
    },
    {
      "cell_type": "code",
      "metadata": {
        "id": "I3osK7JSlwW8",
        "colab_type": "code",
        "colab": {}
      },
      "source": [
        "f1score, precision, recall, y_pred = evaluate(x_test_char, y_test, model_gru_nn)\n",
        "print(f1score, precision, recall)"
      ],
      "execution_count": 0,
      "outputs": []
    },
    {
      "cell_type": "markdown",
      "metadata": {
        "id": "xLQFkS0_lwXE",
        "colab_type": "text"
      },
      "source": [
        "# Final Section\n",
        "# Keras playground\n",
        "\n",
        "Now, train the best model you can do for this task. You can use any model structure and function available. Remember that trainig time increases with the complexity of the model. You might find TensorBoard helpful in tuning of complicated models.\n",
        "\n",
        "Your model should be better than your CNN or GRU model in the previous sections.\n",
        "\n",
        "Some ideas to try\n",
        "1. Tune the parameters\n",
        "2. Bi-directional GRU\n",
        "3. CNN-GRU model"
      ]
    },
    {
      "cell_type": "code",
      "metadata": {
        "id": "DAhNmKDTlwXF",
        "colab_type": "code",
        "colab": {}
      },
      "source": [
        "################################################################################\n",
        "# Write a function that returns keras your best model. You can use anything    #\n",
        "# you want. The goal here is to create the best model you can think of.        #\n",
        "# Your model should get f-score more than 97% from calling evaluate().         #\n",
        "#                                                                              #\n",
        "# Hint: You should read keras documentation to see the list of available       #\n",
        "# layers and options you can use.                                              #\n",
        "################################################################################\n",
        "from tensorflow.keras.layers import Bidirectional\n",
        "\n",
        "\n",
        "def get_my_best_model():\n",
        "    \n",
        "    \n",
        "    \n",
        "    \n",
        "    return model"
      ],
      "execution_count": 0,
      "outputs": []
    },
    {
      "cell_type": "code",
      "metadata": {
        "id": "P3MTe4vClwXJ",
        "colab_type": "code",
        "colab": {}
      },
      "source": [
        "################################################################################\n",
        "# Write code that call model.fit, or model.fit_generator if you have data      #\n",
        "# generator, to train you models. Make sure you have validation_data as an     # \n",
        "# argument and use verbose=2 to generate one log line per epoch. Select your   #\n",
        "# batch size carefully as it will affect your model's ability to converge and  #\n",
        "# time needed for one epoch.                                                   #\n",
        "#                                                                              #\n",
        "# Hint: Read about callbacks_list argument on the documentation. You might     #\n",
        "# find  ReduceLROnPlateau() and ModelCheckpoint() useful for your training     #\n",
        "# process. Feel free to use any other callback function available.             #\n",
        "################################################################################\n",
        "K.clear_session()\n",
        "print('start training conv1d')\n",
        "my_best_model = get_my_best_model()\n",
        "print(my_best_model.summary())\n",
        "\n",
        "################################################################################\n",
        "#                            WRITE YOUR CODE BELOW                             #\n",
        "################################################################################\n",
        "weight_path_best='./data/model_weight_best.h5'\n",
        "\n",
        "callbacks_list_best = [\n",
        "        TensorBoard(log_dir='./data/Graph/best', histogram_freq=1, write_graph=True, write_grads=False),\n",
        "        ModelCheckpoint(\n",
        "            weight_path_best,\n",
        "            save_best_only=True,\n",
        "            save_weights_only=True,\n",
        "            monitor='val_loss',\n",
        "            mode='min',\n",
        "            verbose=1\n",
        "        )\n",
        "  ]\n",
        "\n",
        "train_params = [(3, 512)]\n",
        "verbose = 1\n",
        "for (epochs, batch_size) in train_params:\n",
        "    print(\"train with {} epochs and {} batch size\".format(epochs, batch_size))\n",
        "    "
      ],
      "execution_count": 0,
      "outputs": []
    },
    {
      "cell_type": "code",
      "metadata": {
        "id": "U4cr6gh4lwXU",
        "colab_type": "code",
        "colab": {}
      },
      "source": [
        "evaluate(x_test_char, y_test, my_best_model)"
      ],
      "execution_count": 0,
      "outputs": []
    },
    {
      "cell_type": "code",
      "metadata": {
        "id": "9nL4pvwrlwXY",
        "colab_type": "code",
        "colab": {}
      },
      "source": [
        ""
      ],
      "execution_count": 0,
      "outputs": []
    }
  ]
}